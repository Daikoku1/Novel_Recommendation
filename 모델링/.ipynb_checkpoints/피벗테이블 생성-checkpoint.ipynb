{
 "cells": [
  {
   "cell_type": "markdown",
   "metadata": {},
   "source": [
    "## 데이터 로드"
   ]
  },
  {
   "cell_type": "code",
   "execution_count": 3,
   "metadata": {},
   "outputs": [],
   "source": [
    "import pandas as pd\n",
    "import pickle, os\n",
    "path = os.getenv(\"HOME\") + '/project_data/naver_review_preprocessing.pickle'"
   ]
  },
  {
   "cell_type": "code",
   "execution_count": 4,
   "metadata": {},
   "outputs": [
    {
     "data": {
      "text/html": [
       "<div>\n",
       "<style scoped>\n",
       "    .dataframe tbody tr th:only-of-type {\n",
       "        vertical-align: middle;\n",
       "    }\n",
       "\n",
       "    .dataframe tbody tr th {\n",
       "        vertical-align: top;\n",
       "    }\n",
       "\n",
       "    .dataframe thead th {\n",
       "        text-align: right;\n",
       "    }\n",
       "</style>\n",
       "<table border=\"1\" class=\"dataframe\">\n",
       "  <thead>\n",
       "    <tr style=\"text-align: right;\">\n",
       "      <th></th>\n",
       "      <th>number</th>\n",
       "      <th>title</th>\n",
       "      <th>score</th>\n",
       "      <th>review</th>\n",
       "      <th>auther</th>\n",
       "      <th>user_idx</th>\n",
       "      <th>movie_index</th>\n",
       "    </tr>\n",
       "  </thead>\n",
       "  <tbody>\n",
       "    <tr>\n",
       "      <th>0</th>\n",
       "      <td>17238977</td>\n",
       "      <td>시네마 천국</td>\n",
       "      <td>10</td>\n",
       "      <td>야외상영할 때 엘레나가 갑작스레 와서 키스할 때 진짜 너무 설레였다... 사랑하고 ...</td>\n",
       "      <td>wusl****</td>\n",
       "      <td>77126</td>\n",
       "      <td>4095</td>\n",
       "    </tr>\n",
       "    <tr>\n",
       "      <th>1</th>\n",
       "      <td>17238637</td>\n",
       "      <td>시네마 천국</td>\n",
       "      <td>10</td>\n",
       "      <td>올타임 넘버원 모든 면에서 최고의 영화~</td>\n",
       "      <td>park****</td>\n",
       "      <td>55669</td>\n",
       "      <td>4095</td>\n",
       "    </tr>\n",
       "    <tr>\n",
       "      <th>2</th>\n",
       "      <td>17237730</td>\n",
       "      <td>시네마 천국</td>\n",
       "      <td>9</td>\n",
       "      <td>토토의 영화관은 사라져도 토토와 알프레도의 추억은 계속해서 상영기에서 돌아간다.</td>\n",
       "      <td>kjes****</td>\n",
       "      <td>39991</td>\n",
       "      <td>4095</td>\n",
       "    </tr>\n",
       "    <tr>\n",
       "      <th>3</th>\n",
       "      <td>17236527</td>\n",
       "      <td>시네마 천국</td>\n",
       "      <td>5</td>\n",
       "      <td>이거보다 더 오래된 영화여도 충분히 감동 깊게 재밌게 봤던 영화도 많았다. 대부를 ...</td>\n",
       "      <td>mrki****</td>\n",
       "      <td>50126</td>\n",
       "      <td>4095</td>\n",
       "    </tr>\n",
       "    <tr>\n",
       "      <th>4</th>\n",
       "      <td>17234247</td>\n",
       "      <td>시네마 천국</td>\n",
       "      <td>10</td>\n",
       "      <td>어딘가 마음이 꿈틀대는 영화.</td>\n",
       "      <td>s2fr****</td>\n",
       "      <td>62615</td>\n",
       "      <td>4095</td>\n",
       "    </tr>\n",
       "  </tbody>\n",
       "</table>\n",
       "</div>"
      ],
      "text/plain": [
       "     number   title  score                                             review  \\\n",
       "0  17238977  시네마 천국     10  야외상영할 때 엘레나가 갑작스레 와서 키스할 때 진짜 너무 설레였다... 사랑하고 ...   \n",
       "1  17238637  시네마 천국     10                             올타임 넘버원 모든 면에서 최고의 영화~   \n",
       "2  17237730  시네마 천국      9       토토의 영화관은 사라져도 토토와 알프레도의 추억은 계속해서 상영기에서 돌아간다.   \n",
       "3  17236527  시네마 천국      5  이거보다 더 오래된 영화여도 충분히 감동 깊게 재밌게 봤던 영화도 많았다. 대부를 ...   \n",
       "4  17234247  시네마 천국     10                                   어딘가 마음이 꿈틀대는 영화.   \n",
       "\n",
       "     auther  user_idx  movie_index  \n",
       "0  wusl****     77126         4095  \n",
       "1  park****     55669         4095  \n",
       "2  kjes****     39991         4095  \n",
       "3  mrki****     50126         4095  \n",
       "4  s2fr****     62615         4095  "
      ]
     },
     "execution_count": 4,
     "metadata": {},
     "output_type": "execute_result"
    }
   ],
   "source": [
    "data = pd.read_pickle(path)\n",
    "data.head()"
   ]
  },
  {
   "cell_type": "code",
   "execution_count": 6,
   "metadata": {},
   "outputs": [
    {
     "data": {
      "text/html": [
       "<div>\n",
       "<style scoped>\n",
       "    .dataframe tbody tr th:only-of-type {\n",
       "        vertical-align: middle;\n",
       "    }\n",
       "\n",
       "    .dataframe tbody tr th {\n",
       "        vertical-align: top;\n",
       "    }\n",
       "\n",
       "    .dataframe thead th {\n",
       "        text-align: right;\n",
       "    }\n",
       "</style>\n",
       "<table border=\"1\" class=\"dataframe\">\n",
       "  <thead>\n",
       "    <tr style=\"text-align: right;\">\n",
       "      <th></th>\n",
       "      <th>score</th>\n",
       "      <th>user_idx</th>\n",
       "      <th>movie_index</th>\n",
       "    </tr>\n",
       "  </thead>\n",
       "  <tbody>\n",
       "    <tr>\n",
       "      <th>0</th>\n",
       "      <td>10</td>\n",
       "      <td>77126</td>\n",
       "      <td>4095</td>\n",
       "    </tr>\n",
       "    <tr>\n",
       "      <th>1</th>\n",
       "      <td>10</td>\n",
       "      <td>55669</td>\n",
       "      <td>4095</td>\n",
       "    </tr>\n",
       "    <tr>\n",
       "      <th>2</th>\n",
       "      <td>9</td>\n",
       "      <td>39991</td>\n",
       "      <td>4095</td>\n",
       "    </tr>\n",
       "    <tr>\n",
       "      <th>3</th>\n",
       "      <td>5</td>\n",
       "      <td>50126</td>\n",
       "      <td>4095</td>\n",
       "    </tr>\n",
       "    <tr>\n",
       "      <th>4</th>\n",
       "      <td>10</td>\n",
       "      <td>62615</td>\n",
       "      <td>4095</td>\n",
       "    </tr>\n",
       "  </tbody>\n",
       "</table>\n",
       "</div>"
      ],
      "text/plain": [
       "   score  user_idx  movie_index\n",
       "0     10     77126         4095\n",
       "1     10     55669         4095\n",
       "2      9     39991         4095\n",
       "3      5     50126         4095\n",
       "4     10     62615         4095"
      ]
     },
     "execution_count": 6,
     "metadata": {},
     "output_type": "execute_result"
    }
   ],
   "source": [
    "df = data.iloc[:, [2, 5, 6]]\n",
    "df.head()"
   ]
  },
  {
   "cell_type": "code",
   "execution_count": 8,
   "metadata": {},
   "outputs": [],
   "source": [
    "df.to_csv('user_movie_score_data.csv')"
   ]
  },
  {
   "cell_type": "markdown",
   "metadata": {},
   "source": [
    "## 피벗테이블 생성"
   ]
  },
  {
   "cell_type": "code",
   "execution_count": 3,
   "metadata": {},
   "outputs": [],
   "source": [
    "pivot_df = pd.pivot(data, index='user_idx', columns='movie_index', values='score')\n",
    "# pivot_df"
   ]
  },
  {
   "cell_type": "code",
   "execution_count": 4,
   "metadata": {},
   "outputs": [],
   "source": [
    "pivot_df = pivot_df.fillna(0)"
   ]
  },
  {
   "cell_type": "code",
   "execution_count": 7,
   "metadata": {},
   "outputs": [],
   "source": [
    "import numpy as np\n",
    "pivot_np = pivot_df.to_numpy(dtype = np.int8)\n",
    "# pivot_np"
   ]
  },
  {
   "cell_type": "code",
   "execution_count": null,
   "metadata": {},
   "outputs": [],
   "source": [
    "len(pivot_np)"
   ]
  },
  {
   "cell_type": "code",
   "execution_count": null,
   "metadata": {},
   "outputs": [],
   "source": [
    "len(pivot_np[0])"
   ]
  },
  {
   "cell_type": "code",
   "execution_count": 8,
   "metadata": {},
   "outputs": [],
   "source": [
    "import pickle\n",
    "with open('MF_pivot.pickle', 'wb') as f:\n",
    "    pickle.dump(pivot_np, f)"
   ]
  },
  {
   "cell_type": "code",
   "execution_count": null,
   "metadata": {},
   "outputs": [],
   "source": []
  }
 ],
 "metadata": {
  "kernelspec": {
   "display_name": "Python 3",
   "language": "python",
   "name": "python3"
  },
  "language_info": {
   "codemirror_mode": {
    "name": "ipython",
    "version": 3
   },
   "file_extension": ".py",
   "mimetype": "text/x-python",
   "name": "python",
   "nbconvert_exporter": "python",
   "pygments_lexer": "ipython3",
   "version": "3.8.5"
  },
  "toc": {
   "base_numbering": 1,
   "nav_menu": {},
   "number_sections": true,
   "sideBar": true,
   "skip_h1_title": false,
   "title_cell": "Table of Contents",
   "title_sidebar": "Contents",
   "toc_cell": false,
   "toc_position": {},
   "toc_section_display": true,
   "toc_window_display": true
  }
 },
 "nbformat": 4,
 "nbformat_minor": 4
}
