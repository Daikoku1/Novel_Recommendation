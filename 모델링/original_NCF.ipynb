{
 "cells": [
  {
   "cell_type": "markdown",
   "metadata": {
    "id": "pG66topwDYQs"
   },
   "source": [
    "# Import"
   ]
  },
  {
   "cell_type": "code",
   "execution_count": 2,
   "metadata": {
    "id": "UK34T8Gh_4v1"
   },
   "outputs": [],
   "source": [
    "import pandas as pd\n",
    "import numpy as np\n",
    "from sklearn.model_selection import train_test_split\n",
    "\n",
    "import tensorflow as tf\n",
    "import keras\n",
    "from keras import layers\n",
    "from keras.models import Model, Sequential\n",
    "from keras.layers import Embedding, Flatten, Input, merge\n",
    "from keras.utils import plot_model\n",
    "from IPython.display import SVG\n",
    "import matplotlib.pyplot as plt\n",
    "from keras.backend import reshape as Reshape\n",
    "\n",
    "from keras.callbacks import EarlyStopping"
   ]
  },
  {
   "cell_type": "markdown",
   "metadata": {
    "id": "BkLS4pi4_y7w"
   },
   "source": [
    "# Data Load"
   ]
  },
  {
   "cell_type": "code",
   "execution_count": 4,
   "metadata": {
    "id": "JbG4DlS1_0I0"
   },
   "outputs": [],
   "source": [
    "dataset = pd.read_csv('user_movie_score_data.csv')"
   ]
  },
  {
   "cell_type": "code",
   "execution_count": 5,
   "metadata": {
    "colab": {
     "base_uri": "https://localhost:8080/",
     "height": 78
    },
    "id": "Ne_oL49tAHmq",
    "outputId": "c133070d-94af-4834-c693-8fbbb7c34e8e"
   },
   "outputs": [
    {
     "data": {
      "text/html": [
       "<div>\n",
       "<style scoped>\n",
       "    .dataframe tbody tr th:only-of-type {\n",
       "        vertical-align: middle;\n",
       "    }\n",
       "\n",
       "    .dataframe tbody tr th {\n",
       "        vertical-align: top;\n",
       "    }\n",
       "\n",
       "    .dataframe thead th {\n",
       "        text-align: right;\n",
       "    }\n",
       "</style>\n",
       "<table border=\"1\" class=\"dataframe\">\n",
       "  <thead>\n",
       "    <tr style=\"text-align: right;\">\n",
       "      <th></th>\n",
       "      <th>Unnamed: 0</th>\n",
       "      <th>score</th>\n",
       "      <th>user_idx</th>\n",
       "      <th>movie_index</th>\n",
       "    </tr>\n",
       "  </thead>\n",
       "  <tbody>\n",
       "    <tr>\n",
       "      <th>0</th>\n",
       "      <td>0</td>\n",
       "      <td>10</td>\n",
       "      <td>77126</td>\n",
       "      <td>4095</td>\n",
       "    </tr>\n",
       "  </tbody>\n",
       "</table>\n",
       "</div>"
      ],
      "text/plain": [
       "   Unnamed: 0  score  user_idx  movie_index\n",
       "0           0     10     77126         4095"
      ]
     },
     "execution_count": 5,
     "metadata": {},
     "output_type": "execute_result"
    }
   ],
   "source": [
    "dataset.head(1)"
   ]
  },
  {
   "cell_type": "markdown",
   "metadata": {
    "id": "M3gAzog7ApKL"
   },
   "source": [
    "# Preprocessing"
   ]
  },
  {
   "cell_type": "markdown",
   "metadata": {
    "id": "Q3twQb0oArdz"
   },
   "source": [
    "## user"
   ]
  },
  {
   "cell_type": "code",
   "execution_count": 6,
   "metadata": {
    "colab": {
     "base_uri": "https://localhost:8080/"
    },
    "id": "pabyfQMGAqtX",
    "outputId": "33b567a9-7ccd-4305-a04b-3d50085a2478"
   },
   "outputs": [
    {
     "name": "stdout",
     "output_type": "stream",
     "text": [
      "82740\n"
     ]
    }
   ],
   "source": [
    "user_id = dataset['user_idx'].unique().tolist()\n",
    "print(len(user_id))"
   ]
  },
  {
   "cell_type": "code",
   "execution_count": 7,
   "metadata": {
    "id": "9bUcN3h_A-Hl"
   },
   "outputs": [],
   "source": [
    "user2i = {u:i for i,u in enumerate(user_id)}\n",
    "i2user = {i:u for i,u in enumerate(user_id)}"
   ]
  },
  {
   "cell_type": "code",
   "execution_count": 8,
   "metadata": {
    "id": "fwWiEMZRC2Uk"
   },
   "outputs": [],
   "source": [
    "num_users = len(user2i) # user명에서 i로 변환된것을 사용"
   ]
  },
  {
   "cell_type": "markdown",
   "metadata": {
    "id": "-4FTXsygBhvq"
   },
   "source": [
    "dataset 내의 모든 user에게 id 부여"
   ]
  },
  {
   "cell_type": "markdown",
   "metadata": {
    "id": "pjM8MLaOBz5M"
   },
   "source": [
    "## movie"
   ]
  },
  {
   "cell_type": "code",
   "execution_count": 9,
   "metadata": {
    "id": "rmv5axUqB__O"
   },
   "outputs": [],
   "source": [
    "movie_id = dataset['movie_index'].unique().tolist()"
   ]
  },
  {
   "cell_type": "code",
   "execution_count": 10,
   "metadata": {
    "id": "E6xP6LkGBycR"
   },
   "outputs": [],
   "source": [
    "movie2i = {m:i for i,m in enumerate(movie_id)}\n",
    "i2movie = {i:m for i,m in enumerate(movie_id)}"
   ]
  },
  {
   "cell_type": "code",
   "execution_count": 11,
   "metadata": {
    "id": "ico9AGuTCvTL"
   },
   "outputs": [],
   "source": [
    "num_movies = len(i2movie) # 인덱스에서 movie로 변환된 것을 사용할 것"
   ]
  },
  {
   "cell_type": "code",
   "execution_count": 12,
   "metadata": {
    "colab": {
     "base_uri": "https://localhost:8080/",
     "height": 198
    },
    "id": "Z831LMg1CLge",
    "outputId": "ce69d7e4-6da9-425a-c03a-12c3b4d8401d"
   },
   "outputs": [
    {
     "data": {
      "text/html": [
       "<div>\n",
       "<style scoped>\n",
       "    .dataframe tbody tr th:only-of-type {\n",
       "        vertical-align: middle;\n",
       "    }\n",
       "\n",
       "    .dataframe tbody tr th {\n",
       "        vertical-align: top;\n",
       "    }\n",
       "\n",
       "    .dataframe thead th {\n",
       "        text-align: right;\n",
       "    }\n",
       "</style>\n",
       "<table border=\"1\" class=\"dataframe\">\n",
       "  <thead>\n",
       "    <tr style=\"text-align: right;\">\n",
       "      <th></th>\n",
       "      <th>Unnamed: 0</th>\n",
       "      <th>rating</th>\n",
       "      <th>user</th>\n",
       "      <th>movie</th>\n",
       "    </tr>\n",
       "  </thead>\n",
       "  <tbody>\n",
       "    <tr>\n",
       "      <th>0</th>\n",
       "      <td>0</td>\n",
       "      <td>10</td>\n",
       "      <td>77126</td>\n",
       "      <td>4095</td>\n",
       "    </tr>\n",
       "    <tr>\n",
       "      <th>1</th>\n",
       "      <td>1</td>\n",
       "      <td>10</td>\n",
       "      <td>55669</td>\n",
       "      <td>4095</td>\n",
       "    </tr>\n",
       "    <tr>\n",
       "      <th>2</th>\n",
       "      <td>2</td>\n",
       "      <td>9</td>\n",
       "      <td>39991</td>\n",
       "      <td>4095</td>\n",
       "    </tr>\n",
       "    <tr>\n",
       "      <th>3</th>\n",
       "      <td>3</td>\n",
       "      <td>5</td>\n",
       "      <td>50126</td>\n",
       "      <td>4095</td>\n",
       "    </tr>\n",
       "    <tr>\n",
       "      <th>4</th>\n",
       "      <td>4</td>\n",
       "      <td>10</td>\n",
       "      <td>62615</td>\n",
       "      <td>4095</td>\n",
       "    </tr>\n",
       "  </tbody>\n",
       "</table>\n",
       "</div>"
      ],
      "text/plain": [
       "   Unnamed: 0  rating   user  movie\n",
       "0           0      10  77126   4095\n",
       "1           1      10  55669   4095\n",
       "2           2       9  39991   4095\n",
       "3           3       5  50126   4095\n",
       "4           4      10  62615   4095"
      ]
     },
     "execution_count": 12,
     "metadata": {},
     "output_type": "execute_result"
    }
   ],
   "source": [
    "dataset = dataset.rename(columns={'score': 'rating', 'user_idx': 'user', 'movie_index':'movie'})\n",
    "dataset.head()"
   ]
  },
  {
   "cell_type": "code",
   "execution_count": 13,
   "metadata": {
    "colab": {
     "base_uri": "https://localhost:8080/",
     "height": 198
    },
    "id": "N87YIXMVCmEj",
    "outputId": "16b6ba38-70a3-4e0f-b027-2cb7c12fe73f"
   },
   "outputs": [
    {
     "data": {
      "text/html": [
       "<div>\n",
       "<style scoped>\n",
       "    .dataframe tbody tr th:only-of-type {\n",
       "        vertical-align: middle;\n",
       "    }\n",
       "\n",
       "    .dataframe tbody tr th {\n",
       "        vertical-align: top;\n",
       "    }\n",
       "\n",
       "    .dataframe thead th {\n",
       "        text-align: right;\n",
       "    }\n",
       "</style>\n",
       "<table border=\"1\" class=\"dataframe\">\n",
       "  <thead>\n",
       "    <tr style=\"text-align: right;\">\n",
       "      <th></th>\n",
       "      <th>rating</th>\n",
       "      <th>user</th>\n",
       "      <th>movie</th>\n",
       "    </tr>\n",
       "  </thead>\n",
       "  <tbody>\n",
       "    <tr>\n",
       "      <th>0</th>\n",
       "      <td>10</td>\n",
       "      <td>77126</td>\n",
       "      <td>4095</td>\n",
       "    </tr>\n",
       "    <tr>\n",
       "      <th>1</th>\n",
       "      <td>10</td>\n",
       "      <td>55669</td>\n",
       "      <td>4095</td>\n",
       "    </tr>\n",
       "    <tr>\n",
       "      <th>2</th>\n",
       "      <td>9</td>\n",
       "      <td>39991</td>\n",
       "      <td>4095</td>\n",
       "    </tr>\n",
       "    <tr>\n",
       "      <th>3</th>\n",
       "      <td>5</td>\n",
       "      <td>50126</td>\n",
       "      <td>4095</td>\n",
       "    </tr>\n",
       "    <tr>\n",
       "      <th>4</th>\n",
       "      <td>10</td>\n",
       "      <td>62615</td>\n",
       "      <td>4095</td>\n",
       "    </tr>\n",
       "  </tbody>\n",
       "</table>\n",
       "</div>"
      ],
      "text/plain": [
       "   rating   user  movie\n",
       "0      10  77126   4095\n",
       "1      10  55669   4095\n",
       "2       9  39991   4095\n",
       "3       5  50126   4095\n",
       "4      10  62615   4095"
      ]
     },
     "execution_count": 13,
     "metadata": {},
     "output_type": "execute_result"
    }
   ],
   "source": [
    "dataset = dataset.iloc[:, [1,2,3]]\n",
    "dataset.head()"
   ]
  },
  {
   "cell_type": "markdown",
   "metadata": {
    "id": "yztAZ3JeCo_h"
   },
   "source": [
    "## ratings"
   ]
  },
  {
   "cell_type": "code",
   "execution_count": 14,
   "metadata": {
    "colab": {
     "base_uri": "https://localhost:8080/"
    },
    "id": "tGieoir3CUSI",
    "outputId": "05304bd7-d82a-43f5-dc1c-90f7d8db0006"
   },
   "outputs": [
    {
     "name": "stdout",
     "output_type": "stream",
     "text": [
      "0          10\n",
      "1          10\n",
      "2           9\n",
      "3           5\n",
      "4          10\n",
      "           ..\n",
      "6151098     8\n",
      "6151099    10\n",
      "6151100    10\n",
      "6151101     1\n",
      "6151102    10\n",
      "Name: rating, Length: 6151103, dtype: int64\n"
     ]
    }
   ],
   "source": [
    "dataset['rating'] = dataset['rating'].values\n",
    "print(dataset['rating'])"
   ]
  },
  {
   "cell_type": "markdown",
   "metadata": {
    "id": "IMTPSM0MDT44"
   },
   "source": [
    "# Train/Val set "
   ]
  },
  {
   "cell_type": "markdown",
   "metadata": {
    "id": "11bP7GJCEQyt"
   },
   "source": [
    "- X_data = 예측에 사용되는 데이터셋. user, movie를 가지고 만든다  \n",
    "- y_data = X_data를 가지고 수행한 것의 정답을 확인하기 위해 사용"
   ]
  },
  {
   "cell_type": "code",
   "execution_count": 15,
   "metadata": {
    "id": "KmL3pfoREdsP"
   },
   "outputs": [],
   "source": [
    "X_data = dataset[['user','movie']]"
   ]
  },
  {
   "cell_type": "code",
   "execution_count": 16,
   "metadata": {
    "id": "8if1ai2rEoWA"
   },
   "outputs": [],
   "source": [
    "y_data = dataset['rating']"
   ]
  },
  {
   "cell_type": "code",
   "execution_count": 17,
   "metadata": {
    "colab": {
     "base_uri": "https://localhost:8080/"
    },
    "id": "K4hwb7XYDVmY",
    "outputId": "292eff0e-6511-408f-afcd-a6eba4c1c062"
   },
   "outputs": [
    {
     "name": "stdout",
     "output_type": "stream",
     "text": [
      "(4920882, 2)\n",
      "(1230221, 2)\n",
      "(4920882,)\n",
      "(1230221,)\n"
     ]
    }
   ],
   "source": [
    "X_train, X_val, y_train, y_val = train_test_split(X_data, y_data, test_size = 0.2, random_state=42)\n",
    "print(X_train.shape)\n",
    "print(X_val.shape)\n",
    "print(y_train.shape)\n",
    "print(y_val.shape)"
   ]
  },
  {
   "cell_type": "markdown",
   "metadata": {
    "id": "nY09A49iE0i-"
   },
   "source": [
    "# Modeling"
   ]
  },
  {
   "cell_type": "markdown",
   "metadata": {
    "id": "W8KGbYXBE3G6"
   },
   "source": [
    "## Values in the originals\n",
    "\n",
    "- Batch size: [128,256,512,1024]\n",
    "- Learning Rate: [0.0001,0.0005,0.001,0.005]\n",
    "- CF Layer: 32 -> 16 -> 8\n",
    "- Emb size: 16"
   ]
  },
  {
   "cell_type": "markdown",
   "metadata": {
    "id": "zBPsD1AgsA4-"
   },
   "source": [
    "##### Review tesor"
   ]
  },
  {
   "cell_type": "code",
   "execution_count": 18,
   "metadata": {
    "colab": {
     "base_uri": "https://localhost:8080/"
    },
    "id": "vl_zwU8wXJeA",
    "outputId": "acbc05f9-8e0d-453d-b2c1-2fc959376422"
   },
   "outputs": [
    {
     "name": "stdout",
     "output_type": "stream",
     "text": [
      "a: [[0. 1. 2. 3.]\n",
      " [4. 5. 6. 7.]]\n",
      "\n",
      "b: [[0. 1. 2. 3.]\n",
      " [4. 5. 6. 7.]]\n",
      "\n",
      "resize: [[0. 1. 2. 3. 4. 5. 6. 7.]]\n",
      "\n",
      "Dot: [[ 14.]\n",
      " [126.]]\n",
      "\n",
      "element-wise dot: [[ 0.  1.  4.  9.]\n",
      " [16. 25. 36. 49.]]\n",
      "\n",
      "concat: [[0. 1. 2. 3.]\n",
      " [4. 5. 6. 7.]\n",
      " [0. 1. 2. 3.]\n",
      " [4. 5. 6. 7.]]\n",
      "\n"
     ]
    }
   ],
   "source": [
    "import torch\n",
    "import numpy as np\n",
    "a = torch.Tensor(np.arange(8).reshape(2,4))\n",
    "b = torch.Tensor(np.arange(8).reshape(2,4))\n",
    "a = np.asarray(a).astype('float32')\n",
    "b = np.asarray(b).astype('float32')\n",
    "\n",
    "print(f'a: {a}\\n')\n",
    "print(f'b: {b}\\n')\n",
    "print(f'resize: {Reshape(a, shape=(1,8))}\\n')\n",
    "print(f'Dot: {keras.layers.Dot(axes=1)([a,b])}\\n')\n",
    "print(f'element-wise dot: {a*b}\\n')\n",
    "print(f'concat: {layers.Concatenate(axis=0)([a,b])}\\n')"
   ]
  },
  {
   "cell_type": "markdown",
   "metadata": {
    "id": "8kMt5QqRGNRX"
   },
   "source": [
    "## GMF  \n",
    "  \n",
    "Generalized Matrix Factorizations  \n"
   ]
  },
  {
   "cell_type": "markdown",
   "metadata": {
    "id": "OlmR017kIjhE"
   },
   "source": [
    "모델링"
   ]
  },
  {
   "cell_type": "code",
   "execution_count": 19,
   "metadata": {
    "id": "gq16f1wg6slR"
   },
   "outputs": [],
   "source": [
    "es = EarlyStopping(monitor='val_loss', mode='min', patience=5)"
   ]
  },
  {
   "cell_type": "code",
   "execution_count": 20,
   "metadata": {
    "id": "0pSwI2HqIkjU"
   },
   "outputs": [],
   "source": [
    "Embedding_size = 16\n",
    "\n",
    "class GMF(keras.Model):\n",
    "    def __init__(self, num_users, num_movies, embedding_size, **kwargs):\n",
    "        super(GMF, self).__init__(**kwargs)\n",
    "        self.num_users = num_users\n",
    "        self.num_movies = num_movies\n",
    "        self.embedding_size = embedding_size\n",
    "\n",
    "        self.user_embedding = Embedding(num_users, Embedding_size, name='user_embed')\n",
    "        self.user_bias = Embedding(num_users,1)\n",
    "\n",
    "\n",
    "        self.movie_embedding = Embedding(num_movies, Embedding_size, name='movie_embed')\n",
    "        self.movie_bias = Embedding(num_movies,1)\n",
    "\n",
    "\n",
    "\n",
    "\n",
    "    def call(self, inputs):\n",
    "        \n",
    "        user_vec = self.user_embedding(inputs[:,0])\n",
    "        user_vec = Reshape(user_vec, shape = (-1, self.embedding_size)) # # n>2 dim -> 2dim\n",
    "        user_bias = self.user_bias(inputs[:,0])\n",
    "\n",
    "        movie_vec = self.movie_embedding(inputs[:,1])\n",
    "        movie_vec = Reshape(movie_vec, shape = (-1, self.embedding_size))\n",
    "        movie_bias = self.movie_bias(inputs[:,1])\n",
    "\n",
    "        #dot =  keras.layers.Dot(axes=1)([user_vec, movie_vec])\n",
    "        mat = user_vec * movie_vec\n",
    "        x = mat + user_bias + movie_bias\n",
    "\n",
    "        return x\n",
    "\n",
    "\n",
    "\n",
    "test_model = GMF(num_users, num_movies, Embedding_size)\n",
    "test_model.compile(loss = keras.losses.BinaryCrossentropy(),optimizer=keras.optimizers.Adam(lr=0.001), metrics=['RootMeanSquaredError'])"
   ]
  },
  {
   "cell_type": "code",
   "execution_count": 21,
   "metadata": {
    "colab": {
     "base_uri": "https://localhost:8080/"
    },
    "id": "qo0f-9pZNC_-",
    "outputId": "877c4d23-9198-479f-c76a-facf0afc5696"
   },
   "outputs": [
    {
     "name": "stdout",
     "output_type": "stream",
     "text": [
      "Epoch 1/10\n",
      "38445/38445 [==============================] - 233s 6ms/step - loss: -75.4721 - root_mean_squared_error: 7.1410 - val_loss: -101.5730 - val_root_mean_squared_error: 6.8152\n",
      "Epoch 2/10\n",
      "38445/38445 [==============================] - 228s 6ms/step - loss: -101.9391 - root_mean_squared_error: 6.7976 - val_loss: -102.0244 - val_root_mean_squared_error: 6.7934\n",
      "Epoch 3/10\n",
      "38445/38445 [==============================] - 227s 6ms/step - loss: -102.0850 - root_mean_squared_error: 6.7879 - val_loss: -102.0551 - val_root_mean_squared_error: 6.7910\n",
      "Epoch 4/10\n",
      "38445/38445 [==============================] - 225s 6ms/step - loss: -102.1028 - root_mean_squared_error: 6.7865 - val_loss: -102.0621 - val_root_mean_squared_error: 6.7905\n",
      "Epoch 5/10\n",
      "38445/38445 [==============================] - 225s 6ms/step - loss: -102.1117 - root_mean_squared_error: 6.7862 - val_loss: -102.0654 - val_root_mean_squared_error: 6.7903\n",
      "Epoch 6/10\n",
      "38445/38445 [==============================] - 225s 6ms/step - loss: -102.1159 - root_mean_squared_error: 6.7861 - val_loss: -102.0671 - val_root_mean_squared_error: 6.7902\n",
      "Epoch 7/10\n",
      "38445/38445 [==============================] - 226s 6ms/step - loss: -102.1179 - root_mean_squared_error: 6.7860 - val_loss: -102.0679 - val_root_mean_squared_error: 6.7902\n",
      "Epoch 8/10\n",
      "38445/38445 [==============================] - 230s 6ms/step - loss: -102.1189 - root_mean_squared_error: 6.7860 - val_loss: -102.0683 - val_root_mean_squared_error: 6.7901\n",
      "Epoch 9/10\n",
      "38445/38445 [==============================] - 233s 6ms/step - loss: -102.1192 - root_mean_squared_error: 6.7860 - val_loss: -102.0683 - val_root_mean_squared_error: 6.7901\n",
      "Epoch 10/10\n",
      "38445/38445 [==============================] - 233s 6ms/step - loss: -102.1192 - root_mean_squared_error: 6.7860 - val_loss: -102.0684 - val_root_mean_squared_error: 6.7901\n"
     ]
    }
   ],
   "source": [
    "history = test_model.fit(X_train, y_train,batch_size=128,epochs=10,validation_data=(X_val,y_val),callbacks=[es])"
   ]
  },
  {
   "cell_type": "code",
   "execution_count": 22,
   "metadata": {
    "colab": {
     "base_uri": "https://localhost:8080/",
     "height": 441
    },
    "id": "zxvOXElCTQCy",
    "outputId": "1df1aa33-1cb0-4a76-820d-61ed408853e5"
   },
   "outputs": [
    {
     "data": {
      "image/png": "[encoded data removed]",
      "text/plain": [
       "<Figure size 576x432 with 4 Axes>"
      ]
     },
     "metadata": {
      "needs_background": "light"
     },
     "output_type": "display_data"
    }
   ],
   "source": [
    "fig = plt.figure(figsize=(8,6))\n",
    "\n",
    "sub1 = fig.add_subplot(221) # instead of plt.subplot(2, 2, 1)\n",
    "sub1.set_title('loss') # non OOP: plt.title('The function f')\n",
    "sub1.plot(history.history['loss'])\n",
    "\n",
    "sub2 = fig.add_subplot(222) \n",
    "sub2.set_title('val_loss') \n",
    "sub2.plot(history.history['val_loss'],c='red')\n",
    "\n",
    "sub3 = fig.add_subplot(223) \n",
    "sub3.set_title('rmse') \n",
    "sub3.plot(history.history['root_mean_squared_error'],c='green')\n",
    "\n",
    "sub4 = fig.add_subplot(224) \n",
    "sub4.set_title('val_rmse') \n",
    "sub4.plot(history.history['val_root_mean_squared_error'],c='blue')\n",
    "\n",
    "plt.tight_layout()\n",
    "plt.show()"
   ]
  },
  {
   "cell_type": "markdown",
   "metadata": {
    "id": "VG9XEigIUtSo"
   },
   "source": [
    "## MLP  \n",
    "  \n",
    "신경망을 이용한 파트"
   ]
  },
  {
   "cell_type": "markdown",
   "metadata": {
    "id": "YRyfnisGkTwA"
   },
   "source": [
    "$\\hat{y_{ui}} = \\sigma(h^T a(p_u * q_u + W [p_{u_{1,1}}\\  q_{u_{2,1}}] + b))$"
   ]
  },
  {
   "cell_type": "code",
   "execution_count": 23,
   "metadata": {
    "id": "SUWueFp1UwcH"
   },
   "outputs": [],
   "source": [
    "Embedding_size = 8\n",
    "\n",
    "class MLP(keras.Model):\n",
    "    def __init__(self, num_users, num_movies, embedding_size, **kwargs):\n",
    "        super(MLP, self).__init__(**kwargs)\n",
    "        self.num_users = num_users\n",
    "        self.num_movies = num_movies\n",
    "        self.embedding_size = embedding_size\n",
    "\n",
    "        self.user_embedding = Embedding(num_users, Embedding_size, name='user_embed', embeddings_initializer= 'he_normal', embeddings_regularizer=keras.regularizers.l2(1e-4))\n",
    "        self.user_bias = Embedding(num_users,1)\n",
    "\n",
    "\n",
    "        self.movie_embedding = Embedding(num_movies, Embedding_size, name='movie_embed', embeddings_initializer= 'he_normal', embeddings_regularizer=keras.regularizers.l2(1e-4))\n",
    "        self.movie_bias = Embedding(num_movies,1)\n",
    "\n",
    "        self.Layer1 = layers.Dense(16,activation='elu')\n",
    "        self.Layer2 = layers.Dense(32,activation='elu')\n",
    "        self.Layer3 = layers.Dense(16,activation='elu')\n",
    "        self.Layer4 = layers.Dense(8,activation='elu')\n",
    "        self.dropout = layers.Dropout(0.1)\n",
    "\n",
    "    def call(self, inputs):\n",
    "        \n",
    "        user_vec = self.user_embedding(inputs[:,0])\n",
    "        user_vec = Reshape(user_vec, shape = (-1, self.embedding_size)) # # n>2 dim -> 2dim\n",
    "        user_bias = self.user_bias(inputs[:,0])\n",
    "\n",
    "        movie_vec = self.movie_embedding(inputs[:,1])\n",
    "        movie_vec = Reshape(movie_vec, shape = (-1, self.embedding_size))\n",
    "        movie_bias = self.movie_bias(inputs[:,1])\n",
    "\n",
    "        #dot =  keras.layers.Dot(axes=1)([user_vec, movie_vec])\n",
    "        #mat = user_vec * movie_vec\n",
    "        mat = keras.layers.Concatenate()([user_vec, movie_vec])\n",
    "        x = mat + user_bias + movie_bias\n",
    "\n",
    "        x = self.Layer1(x)\n",
    "        x = self.dropout(x)\n",
    "        x = self.Layer2(x)\n",
    "        x = self.dropout(x)\n",
    "        x = self.Layer3(x)\n",
    "        x = self.dropout(x)\n",
    "\n",
    "        return self.Layer4(x)\n",
    "\n",
    "\n",
    "\n",
    "test_model2 = MLP(num_users, num_movies, Embedding_size)\n",
    "test_model2.compile(loss = keras.losses.MeanAbsoluteError() ,optimizer=keras.optimizers.Adam(lr=1e-3), metrics=['RootMeanSquaredError'])"
   ]
  },
  {
   "cell_type": "code",
   "execution_count": 24,
   "metadata": {
    "colab": {
     "base_uri": "https://localhost:8080/"
    },
    "id": "b-6Boj2toTF3",
    "outputId": "54bf4819-676d-4574-eab5-272b42a06138"
   },
   "outputs": [
    {
     "name": "stdout",
     "output_type": "stream",
     "text": [
      "Epoch 1/100\n",
      "38445/38445 [==============================] - 106s 3ms/step - loss: 2.0426 - root_mean_squared_error: 2.9827 - val_loss: 1.9168 - val_root_mean_squared_error: 2.9204\n",
      "Epoch 2/100\n",
      "38445/38445 [==============================] - 106s 3ms/step - loss: 1.8919 - root_mean_squared_error: 2.9432 - val_loss: 1.8662 - val_root_mean_squared_error: 2.9442\n",
      "Epoch 3/100\n",
      "38445/38445 [==============================] - 106s 3ms/step - loss: 1.8526 - root_mean_squared_error: 2.9373 - val_loss: 1.8511 - val_root_mean_squared_error: 2.9269\n",
      "Epoch 4/100\n",
      "38445/38445 [==============================] - 106s 3ms/step - loss: 1.8372 - root_mean_squared_error: 2.9282 - val_loss: 1.8455 - val_root_mean_squared_error: 2.9328\n",
      "Epoch 5/100\n",
      "38445/38445 [==============================] - 106s 3ms/step - loss: 1.8279 - root_mean_squared_error: 2.9230 - val_loss: 1.8392 - val_root_mean_squared_error: 2.9343\n",
      "Epoch 6/100\n",
      "38445/38445 [==============================] - 106s 3ms/step - loss: 1.8215 - root_mean_squared_error: 2.9179 - val_loss: 1.8457 - val_root_mean_squared_error: 2.9431\n",
      "Epoch 7/100\n",
      "38445/38445 [==============================] - 106s 3ms/step - loss: 1.8168 - root_mean_squared_error: 2.9148 - val_loss: 1.8491 - val_root_mean_squared_error: 2.9483\n",
      "Epoch 8/100\n",
      "38445/38445 [==============================] - 106s 3ms/step - loss: 1.8130 - root_mean_squared_error: 2.9110 - val_loss: 1.8334 - val_root_mean_squared_error: 2.9339\n",
      "Epoch 9/100\n",
      "38445/38445 [==============================] - 106s 3ms/step - loss: 1.8104 - root_mean_squared_error: 2.9093 - val_loss: 1.8356 - val_root_mean_squared_error: 2.9402\n",
      "Epoch 10/100\n",
      "38445/38445 [==============================] - 106s 3ms/step - loss: 1.8081 - root_mean_squared_error: 2.9068 - val_loss: 1.8391 - val_root_mean_squared_error: 2.9381\n",
      "Epoch 11/100\n",
      "38445/38445 [==============================] - 106s 3ms/step - loss: 1.8064 - root_mean_squared_error: 2.9050 - val_loss: 1.8316 - val_root_mean_squared_error: 2.9319\n",
      "Epoch 12/100\n",
      "38445/38445 [==============================] - 106s 3ms/step - loss: 1.8049 - root_mean_squared_error: 2.9034 - val_loss: 1.8419 - val_root_mean_squared_error: 2.9310\n",
      "Epoch 13/100\n",
      "38445/38445 [==============================] - 106s 3ms/step - loss: 1.8038 - root_mean_squared_error: 2.9035 - val_loss: 1.8410 - val_root_mean_squared_error: 2.9385\n",
      "Epoch 14/100\n",
      "38445/38445 [==============================] - 106s 3ms/step - loss: 1.8026 - root_mean_squared_error: 2.9013 - val_loss: 1.8337 - val_root_mean_squared_error: 2.9319\n",
      "Epoch 15/100\n",
      "38445/38445 [==============================] - 106s 3ms/step - loss: 1.8020 - root_mean_squared_error: 2.9016 - val_loss: 1.8339 - val_root_mean_squared_error: 2.9416\n",
      "Epoch 16/100\n",
      "38445/38445 [==============================] - 106s 3ms/step - loss: 1.8008 - root_mean_squared_error: 2.9004 - val_loss: 1.8296 - val_root_mean_squared_error: 2.9438\n",
      "Epoch 17/100\n",
      "38445/38445 [==============================] - 106s 3ms/step - loss: 1.8003 - root_mean_squared_error: 2.9001 - val_loss: 1.8399 - val_root_mean_squared_error: 2.9553\n",
      "Epoch 18/100\n",
      "38445/38445 [==============================] - 106s 3ms/step - loss: 1.7995 - root_mean_squared_error: 2.9001 - val_loss: 1.8330 - val_root_mean_squared_error: 2.9566\n",
      "Epoch 19/100\n",
      "38445/38445 [==============================] - 106s 3ms/step - loss: 1.7983 - root_mean_squared_error: 2.9005 - val_loss: 1.8356 - val_root_mean_squared_error: 2.9366\n",
      "Epoch 20/100\n",
      "38445/38445 [==============================] - 106s 3ms/step - loss: 1.7981 - root_mean_squared_error: 2.8997 - val_loss: 1.8355 - val_root_mean_squared_error: 2.9206\n",
      "Epoch 21/100\n",
      "38445/38445 [==============================] - 106s 3ms/step - loss: 1.7973 - root_mean_squared_error: 2.8988 - val_loss: 1.8338 - val_root_mean_squared_error: 2.9428\n"
     ]
    }
   ],
   "source": [
    "history2 = test_model2.fit(X_train, y_train,batch_size=128,epochs=100,validation_data=(X_val,y_val),callbacks=[es])"
   ]
  },
  {
   "cell_type": "code",
   "execution_count": 26,
   "metadata": {
    "colab": {
     "base_uri": "https://localhost:8080/"
    },
    "id": "i35zCc_ICGRa",
    "outputId": "91ffe079-3dd3-4801-e156-5f5c03d84f8b"
   },
   "outputs": [
    {
     "name": "stdout",
     "output_type": "stream",
     "text": [
      "INFO:tensorflow:Assets written to: MLP.h5py/assets\n"
     ]
    }
   ],
   "source": [
    "test_model2.save('MLP.h5py')"
   ]
  },
  {
   "cell_type": "code",
   "execution_count": 27,
   "metadata": {
    "colab": {
     "base_uri": "https://localhost:8080/",
     "height": 441
    },
    "id": "SuNYleCPpGXG",
    "outputId": "3622e9e1-a9fa-4935-c3cb-254a9e35b8db"
   },
   "outputs": [
    {
     "data": {
      "image/png": "[encoded data removed]",
      "text/plain": [
       "<Figure size 576x432 with 4 Axes>"
      ]
     },
     "metadata": {
      "needs_background": "light"
     },
     "output_type": "display_data"
    }
   ],
   "source": [
    "fig = plt.figure(figsize=(8,6))\n",
    "\n",
    "sub1 = fig.add_subplot(221) # instead of plt.subplot(2, 2, 1)\n",
    "sub1.set_title('loss') # non OOP: plt.title('The function f')\n",
    "sub1.plot(history2.history['loss'])\n",
    "\n",
    "sub2 = fig.add_subplot(222) \n",
    "sub2.set_title('val_loss') \n",
    "sub2.plot(history2.history['val_loss'],c='red')\n",
    "\n",
    "sub3 = fig.add_subplot(223) \n",
    "sub3.set_title('rmse') \n",
    "sub3.plot(history2.history['root_mean_squared_error'],c='green')\n",
    "\n",
    "sub4 = fig.add_subplot(224) \n",
    "sub4.set_title('val_rmse') \n",
    "sub4.plot(history2.history['val_root_mean_squared_error'],c='blue')\n",
    "\n",
    "plt.tight_layout()\n",
    "plt.show()"
   ]
  },
  {
   "cell_type": "markdown",
   "metadata": {
    "id": "nYx5shiI2KyU"
   },
   "source": [
    "## Neu-MF  \n",
    "  \n",
    "Concatenate GMF and MLP parts"
   ]
  },
  {
   "cell_type": "code",
   "execution_count": 28,
   "metadata": {
    "id": "EGPqpUJy2Qpl"
   },
   "outputs": [],
   "source": [
    "Embedding_size = 8\n",
    "\n",
    "class Neu_MF(keras.Model):\n",
    "    def __init__(self, num_users, num_movies, embedding_size, **kwargs):\n",
    "        super(Neu_MF, self).__init__(**kwargs)\n",
    "        self.num_users = num_users\n",
    "        self.num_movies = num_movies\n",
    "        self.embedding_size = embedding_size\n",
    "\n",
    "        self.user_embedding = Embedding(num_users, Embedding_size, name='user_embed', embeddings_initializer= 'he_normal', embeddings_regularizer=keras.regularizers.l2(1e-4))\n",
    "        self.user_bias = Embedding(num_users,1)\n",
    "\n",
    "\n",
    "        self.movie_embedding = Embedding(num_movies, Embedding_size, name='movie_embed')\n",
    "        self.movie_bias = Embedding(num_movies,1)\n",
    "\n",
    "        self.Layer1 = layers.Dense(16,activation='elu')\n",
    "        self.Layer2 = layers.Dense(32,activation='elu')\n",
    "        self.Layer3 = layers.Dense(16,activation='elu')\n",
    "        self.Layer4 = layers.Dense(8,activation='elu')\n",
    "        self.dropout = layers.Dropout(0.1)\n",
    "\n",
    "    def call(self, inputs):\n",
    "        \n",
    "        # GMF\n",
    "\n",
    "        user_vec_gmf = self.user_embedding(inputs[:,0])\n",
    "        user_vec_gmf = Reshape(user_vec_gmf, shape = (-1, self.embedding_size)) # # n>2 dim -> 2dim\n",
    "        user_bias_gmf = self.user_bias(inputs[:,0])\n",
    "\n",
    "        movie_vec_gmf = self.movie_embedding(inputs[:,1])\n",
    "        movie_vec_gmf = Reshape(movie_vec_gmf, shape = (-1, self.embedding_size))\n",
    "        movie_bias_gmf = self.movie_bias(inputs[:,1])\n",
    "\n",
    "        #mat_gmf = user_vec_gmf * movie_vec_gmf\n",
    "        mat_gmf = keras.layers.merge.dot([user_vec_gmf, movie_vec_gmf], axes=1)\n",
    "        gmf = mat_gmf + user_bias_gmf + movie_bias_gmf\n",
    "\n",
    "        # MLP\n",
    "\n",
    "        user_vec_mlp = self.user_embedding(inputs[:,0])\n",
    "        user_vec_mlp = Reshape(user_vec_mlp, shape = (-1, self.embedding_size)) # # n>2 dim -> 2dim\n",
    "        user_bias_mlp = self.user_bias(inputs[:,0])\n",
    "\n",
    "        movie_vec_mlp = self.movie_embedding(inputs[:,1])\n",
    "        movie_vec_mlp = Reshape(movie_vec_mlp, shape = (-1, self.embedding_size))\n",
    "        movie_bias_mlp = self.movie_bias(inputs[:,1])\n",
    "\n",
    "        # concat in MLP part\n",
    "\n",
    "        concat_mlp = keras.layers.Concatenate()([user_vec_mlp, movie_vec_mlp])\n",
    "\n",
    "        # MLP Layers\n",
    "        x = self.dropout(self.Layer1(concat_mlp))\n",
    "        x = self.dropout(self.Layer2(x))\n",
    "        x = self.dropout(self.Layer3(x))\n",
    "        mlp = x\n",
    "\n",
    "        # concat MLP n GMF\n",
    "        x = keras.layers.Concatenate()([gmf, mlp])\n",
    "\n",
    "        # Final Prediction\n",
    "\n",
    "        pred = self.Layer4(x)\n",
    "\n",
    "        return pred\n",
    "\n",
    "test_model3 = Neu_MF(num_users, num_movies, Embedding_size)\n",
    "test_model3.compile(loss = keras.losses.MeanAbsoluteError(),optimizer=keras.optimizers.Nadam(lr=1e-3), metrics=['RootMeanSquaredError'])"
   ]
  },
  {
   "cell_type": "code",
   "execution_count": 29,
   "metadata": {
    "colab": {
     "base_uri": "https://localhost:8080/"
    },
    "id": "UMwhFqoT6tdG",
    "outputId": "6b4f594d-e7f2-4193-a734-ce42037fe49b"
   },
   "outputs": [
    {
     "name": "stdout",
     "output_type": "stream",
     "text": [
      "Epoch 1/100\n",
      "38445/38445 [==============================] - 225s 6ms/step - loss: 2.0002 - root_mean_squared_error: 2.9476 - val_loss: 1.8976 - val_root_mean_squared_error: 2.8775\n",
      "Epoch 2/100\n",
      "38445/38445 [==============================] - 225s 6ms/step - loss: 1.8808 - root_mean_squared_error: 2.8927 - val_loss: 1.8768 - val_root_mean_squared_error: 2.8920\n",
      "Epoch 3/100\n",
      "38445/38445 [==============================] - 225s 6ms/step - loss: 1.8655 - root_mean_squared_error: 2.8886 - val_loss: 1.8724 - val_root_mean_squared_error: 2.9066\n",
      "Epoch 4/100\n",
      "38445/38445 [==============================] - 225s 6ms/step - loss: 1.8594 - root_mean_squared_error: 2.8851 - val_loss: 1.8704 - val_root_mean_squared_error: 2.8940\n",
      "Epoch 5/100\n",
      "38445/38445 [==============================] - 225s 6ms/step - loss: 1.8557 - root_mean_squared_error: 2.8823 - val_loss: 1.8686 - val_root_mean_squared_error: 2.8980\n",
      "Epoch 6/100\n",
      "38445/38445 [==============================] - 225s 6ms/step - loss: 1.8530 - root_mean_squared_error: 2.8806 - val_loss: 1.8680 - val_root_mean_squared_error: 2.8933\n",
      "Epoch 7/100\n",
      "38445/38445 [==============================] - 225s 6ms/step - loss: 1.8511 - root_mean_squared_error: 2.8791 - val_loss: 1.8681 - val_root_mean_squared_error: 2.9002\n",
      "Epoch 8/100\n",
      "38445/38445 [==============================] - 225s 6ms/step - loss: 1.8499 - root_mean_squared_error: 2.8787 - val_loss: 1.8683 - val_root_mean_squared_error: 2.8934\n",
      "Epoch 9/100\n",
      "38445/38445 [==============================] - 225s 6ms/step - loss: 1.8487 - root_mean_squared_error: 2.8785 - val_loss: 1.8681 - val_root_mean_squared_error: 2.8944\n",
      "Epoch 10/100\n",
      "38445/38445 [==============================] - 225s 6ms/step - loss: 1.8481 - root_mean_squared_error: 2.8772 - val_loss: 1.8683 - val_root_mean_squared_error: 2.8845\n",
      "Epoch 11/100\n",
      "38445/38445 [==============================] - 225s 6ms/step - loss: 1.8471 - root_mean_squared_error: 2.8768 - val_loss: 1.8680 - val_root_mean_squared_error: 2.8998\n",
      "Epoch 12/100\n",
      "38445/38445 [==============================] - 225s 6ms/step - loss: 1.8466 - root_mean_squared_error: 2.8761 - val_loss: 1.8696 - val_root_mean_squared_error: 2.8849\n",
      "Epoch 13/100\n",
      "38445/38445 [==============================] - 225s 6ms/step - loss: 1.8462 - root_mean_squared_error: 2.8755 - val_loss: 1.8689 - val_root_mean_squared_error: 2.8952\n",
      "Epoch 14/100\n",
      "38445/38445 [==============================] - 226s 6ms/step - loss: 1.8455 - root_mean_squared_error: 2.8750 - val_loss: 1.8682 - val_root_mean_squared_error: 2.8923\n",
      "Epoch 15/100\n",
      "38445/38445 [==============================] - 263s 7ms/step - loss: 1.8453 - root_mean_squared_error: 2.8743 - val_loss: 1.8684 - val_root_mean_squared_error: 2.8944\n",
      "Epoch 16/100\n",
      "38445/38445 [==============================] - 287s 7ms/step - loss: 1.8446 - root_mean_squared_error: 2.8741 - val_loss: 1.8686 - val_root_mean_squared_error: 2.9085\n"
     ]
    }
   ],
   "source": [
    "history3 = test_model3.fit(X_train, y_train,batch_size=128,epochs=100,validation_data=(X_val,y_val),callbacks=[es])"
   ]
  },
  {
   "cell_type": "code",
   "execution_count": 30,
   "metadata": {
    "colab": {
     "base_uri": "https://localhost:8080/",
     "height": 441
    },
    "id": "ow-KOHns69Sb",
    "outputId": "30bb8f78-2161-4790-c8bd-abf72b42cb6c"
   },
   "outputs": [
    {
     "data": {
      "image/png": "[encoded data removed]",
      "text/plain": [
       "<Figure size 576x432 with 4 Axes>"
      ]
     },
     "metadata": {
      "needs_background": "light"
     },
     "output_type": "display_data"
    }
   ],
   "source": [
    "fig = plt.figure(figsize=(8,6))\n",
    "\n",
    "sub1 = fig.add_subplot(221) # instead of plt.subplot(2, 2, 1)\n",
    "sub1.set_title('loss') # non OOP: plt.title('The function f')\n",
    "sub1.plot(history3.history['loss'])\n",
    "\n",
    "sub2 = fig.add_subplot(222) \n",
    "sub2.set_title('val_loss') \n",
    "sub2.plot(history3.history['val_loss'],c='red')\n",
    "\n",
    "sub3 = fig.add_subplot(223) \n",
    "sub3.set_title('rmse') \n",
    "sub3.plot(history3.history['root_mean_squared_error'],c='green')\n",
    "\n",
    "sub4 = fig.add_subplot(224) \n",
    "sub4.set_title('val_rmse') \n",
    "sub4.plot(history3.history['val_root_mean_squared_error'],c='blue')\n",
    "\n",
    "plt.tight_layout()\n",
    "plt.show()"
   ]
  },
  {
   "cell_type": "code",
   "execution_count": 31,
   "metadata": {
    "colab": {
     "base_uri": "https://localhost:8080/"
    },
    "id": "LJYSQWEFMx7H",
    "outputId": "c783addb-b504-498c-fc3b-84dd77bd6789"
   },
   "outputs": [
    {
     "name": "stdout",
     "output_type": "stream",
     "text": [
      "9612/9612 [==============================] - 14s 2ms/step - loss: 1.8686 - root_mean_squared_error: 2.9085\n",
      "test loss 1.8686\n",
      "test rmse 2.9085\n"
     ]
    }
   ],
   "source": [
    "results = test_model3.evaluate(X_val,y_val, batch_size=128)\n",
    "print(\"test loss\", round(results[0],4))\n",
    "print('test rmse',round(results[1],4))"
   ]
  },
  {
   "cell_type": "markdown",
   "metadata": {
    "id": "F9AMlJDI8Apf"
   },
   "source": [
    "# Result\n"
   ]
  },
  {
   "cell_type": "code",
   "execution_count": 32,
   "metadata": {
    "colab": {
     "base_uri": "https://localhost:8080/",
     "height": 441
    },
    "id": "6c4zGgMz4hXZ",
    "outputId": "4d098f1b-3ebb-4927-c930-bb1eb8a04c1c"
   },
   "outputs": [
    {
     "data": {
      "image/png": "[encoded data removed]",
      "text/plain": [
       "<Figure size 576x432 with 6 Axes>"
      ]
     },
     "metadata": {
      "needs_background": "light"
     },
     "output_type": "display_data"
    }
   ],
   "source": [
    "fig = plt.figure(figsize=(8,6))\n",
    "\n",
    "sub1 = fig.add_subplot(231) # instead of plt.subplot(2, 2, 1)\n",
    "sub1.set_title('gmf loss') # non OOP: plt.title('The function f')\n",
    "sub1.plot(history.history['loss'])\n",
    "sub1.plot(history.history['val_loss'],c='red')\n",
    "\n",
    "sub2 = fig.add_subplot(234) \n",
    "sub2.set_title('gmf rmse')\n",
    "sub2.plot(history.history['root_mean_squared_error'],c='green')\n",
    "sub2.plot(history.history['val_root_mean_squared_error'],c='blue')\n",
    "\n",
    "sub3 = fig.add_subplot(232) # instead of plt.subplot(2, 2, 1)\n",
    "sub3.set_title('mlp loss') # non OOP: plt.title('The function f')\n",
    "sub3.plot(history2.history['loss'])\n",
    "sub3.plot(history2.history['val_loss'],c='red')\n",
    "\n",
    "sub4 = fig.add_subplot(235) \n",
    "sub4.set_title('mlp rmse')\n",
    "sub4.plot(history2.history['root_mean_squared_error'],c='green')\n",
    "sub4.plot(history2.history['val_root_mean_squared_error'],c='blue')\n",
    "\n",
    "sub5 = fig.add_subplot(233) # instead of plt.subplot(2, 2, 1)\n",
    "sub5.set_title('NeuMF loss') # non OOP: plt.title('The function f')\n",
    "sub5.plot(history3.history['loss'])\n",
    "sub5.plot(history3.history['val_loss'],c='red')\n",
    "\n",
    "sub6 = fig.add_subplot(236) \n",
    "sub6.set_title('NeuMF rmse')\n",
    "sub6.plot(history3.history['root_mean_squared_error'],c='green')\n",
    "sub6.plot(history3.history['val_root_mean_squared_error'],c='blue')\n",
    "\n",
    "plt.tight_layout()\n",
    "plt.show()"
   ]
  },
  {
   "cell_type": "code",
   "execution_count": 33,
   "metadata": {
    "id": "4vxd62cvLOuV"
   },
   "outputs": [],
   "source": [
    "test_model3.save_weights('NeuMF.h5')"
   ]
  },
  {
   "cell_type": "code",
   "execution_count": null,
   "metadata": {},
   "outputs": [],
   "source": []
  },
  {
   "cell_type": "code",
   "execution_count": null,
   "metadata": {},
   "outputs": [],
   "source": []
  },
  {
   "cell_type": "code",
   "execution_count": null,
   "metadata": {},
   "outputs": [],
   "source": []
  }
 ],
 "metadata": {
  "accelerator": "GPU",
  "colab": {
   "collapsed_sections": [],
   "name": "original_NCF.ipynb",
   "provenance": []
  },
  "kernelspec": {
   "display_name": "Python 3",
   "language": "python",
   "name": "python3"
  },
  "language_info": {
   "codemirror_mode": {
    "name": "ipython",
    "version": 3
   },
   "file_extension": ".py",
   "mimetype": "text/x-python",
   "name": "python",
   "nbconvert_exporter": "python",
   "pygments_lexer": "ipython3",
   "version": "3.8.5"
  },
  "toc": {
   "base_numbering": 1,
   "nav_menu": {},
   "number_sections": true,
   "sideBar": true,
   "skip_h1_title": false,
   "title_cell": "Table of Contents",
   "title_sidebar": "Contents",
   "toc_cell": false,
   "toc_position": {},
   "toc_section_display": true,
   "toc_window_display": true
  }
 },
 "nbformat": 4,
 "nbformat_minor": 1
}
