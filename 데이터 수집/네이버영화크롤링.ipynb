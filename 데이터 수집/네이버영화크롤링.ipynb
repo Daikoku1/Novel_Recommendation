{
 "cells": [
  {
   "cell_type": "markdown",
   "metadata": {
    "toc": true
   },
   "source": [
    "<h1>Table of Contents<span class=\"tocSkip\"></span></h1>\n",
    "<div class=\"toc\"><ul class=\"toc-item\"><li><span><a href=\"#실패\" data-toc-modified-id=\"실패-1\"><span class=\"toc-item-num\">1&nbsp;&nbsp;</span>실패</a></span></li><li><span><a href=\"#영화별-크롤링\" data-toc-modified-id=\"영화별-크롤링-2\"><span class=\"toc-item-num\">2&nbsp;&nbsp;</span>영화별 크롤링</a></span></li></ul></div>"
   ]
  },
  {
   "cell_type": "markdown",
   "metadata": {},
   "source": [
    "# 실패\n",
    "- 1000P까지만 가능\n",
    "- 네이버에서 막아놓음\n",
    "- 다른 방법으로 크롤링하자!"
   ]
  },
  {
   "cell_type": "code",
   "execution_count": null,
   "metadata": {},
   "outputs": [],
   "source": [
    "import requests\n",
    "from bs4 import BeautifulSoup\n",
    "import pandas as pd\n",
    "def max_page(url):\n",
    "    res = requests.get(url)\n",
    "    soup = BeautifulSoup(res.content, 'html.parser')\n",
    "    return int(soup.find('strong', class_='c_88 fs_11').text) // 10 + 1\n",
    "\n",
    "url = 'https://movie.naver.com/movie/point/af/list.nhn'\n",
    "def crawling_data(url):\n",
    "    df = pd.DataFrame(columns = ['title_num', 'title', 'review', 'auther'])\n",
    "    max_p = max_page(url)\n",
    "    error_li = []\n",
    "    for i in range(1, max_p):\n",
    "        if i % 10 == 0:\n",
    "            print(i)\n",
    "        params = {'page' : i}\n",
    "        res = requests.get(url, params = params)\n",
    "        soup = BeautifulSoup(res.content, 'html.parser')\n",
    "\n",
    "        tr_li = soup.find('tbody').find_all('tr')\n",
    "        for idx, tr in enumerate(tr_li):\n",
    "            try:\n",
    "                now = dict()\n",
    "                now['title_num'] = tr.find('td', class_='ac num').get_text()\n",
    "                now['title'] = tr.find('a', class_='movie color_b').get_text()\n",
    "                now['review'] = ''.join(tr.find('a', class_='report').get('href').split(\",\")[2:-2]).strip()[1:-1]\n",
    "                now['auther'] = tr.find('a', class_='author').get_text()\n",
    "                df = df.append(now, ignore_index = True)\n",
    "            except:\n",
    "                print('error', f\"{i},{idx}\")\n",
    "                error_li.append([i, idx])\n",
    "\n",
    "    return df, error_li\n"
   ]
  },
  {
   "cell_type": "code",
   "execution_count": null,
   "metadata": {},
   "outputs": [],
   "source": []
  },
  {
   "cell_type": "markdown",
   "metadata": {},
   "source": [
    "# 영화별 크롤링"
   ]
  },
  {
   "cell_type": "code",
   "execution_count": null,
   "metadata": {},
   "outputs": [],
   "source": [
    "import requests\n",
    "from bs4 import BeautifulSoup\n",
    "import pandas as pd\n",
    "def max_page(url):\n",
    "    res = requests.get(url)\n",
    "    soup = BeautifulSoup(res.content, 'html.parser')\n",
    "    q, r = divmod(int(soup.find('strong', class_='c_88 fs_11').text), 10)\n",
    "    return q+1 if r else q\n",
    "\n",
    "def crawling_data_by_movie(number):\n",
    "    number = int(number)\n",
    "    base_url = 'https://movie.naver.com/movie/point/af/list.nhn?st=mcode&' + f\"sword={number}\" + '&target=after'\n",
    "    max_p = max_page(base_url) + 1\n",
    "    \n",
    "    df = pd.DataFrame(columns = ['number', 'title', 'score', 'review', 'auther'])\n",
    "    error_li = []\n",
    "    for i in range(1, max_p):\n",
    "#         if i % 100 == 0:\n",
    "#             print(i)\n",
    "        params = {'page' : i}\n",
    "        res = requests.get(base_url, params = params)\n",
    "        soup = BeautifulSoup(res.content, 'html.parser')\n",
    "\n",
    "        tr_li = soup.find('tbody').find_all('tr')\n",
    "        for idx, tr in enumerate(tr_li):\n",
    "            try:\n",
    "                now = dict()\n",
    "                now['number'] = tr.find('td', class_='ac num').get_text()\n",
    "                now['title'] = tr.find('a', class_='movie color_b').get_text()\n",
    "                now['score'] = tr.find('em').get_text()\n",
    "                now['review'] = ''.join(tr.find('a', class_='report').get('href').split(\",\")[2:-2]).strip()[1:-1]\n",
    "                now['auther'] = tr.find('a', class_='author').get_text()\n",
    "                df = df.append(now, ignore_index = True)\n",
    "            except:\n",
    "                print('error', f\"{i},{idx}\")\n",
    "                error_li.append([i, idx])\n",
    "\n",
    "    return df, error_li"
   ]
  },
  {
   "cell_type": "code",
   "execution_count": null,
   "metadata": {},
   "outputs": [],
   "source": [
    "a, b = crawling_data_by_movie(11206)\n",
    "print(b)\n",
    "print(a.head())"
   ]
  },
  {
   "cell_type": "code",
   "execution_count": null,
   "metadata": {},
   "outputs": [],
   "source": [
    "len(a)"
   ]
  },
  {
   "cell_type": "code",
   "execution_count": null,
   "metadata": {},
   "outputs": [],
   "source": [
    "# 10001이 처음이고 199900이 마지막임 11월 6일 기준\n",
    "df = pd.DataFrame(columns = ['number', 'title', 'score', 'review', 'auther'])\n",
    "for num in range(10_001, 199_901):\n",
    "    now, error = crawling_data_by_movie(num)\n",
    "    if len(now) > 100:\n",
    "        print(num, error)\n",
    "        df.append(now, ignore_index = True)\n",
    "df.head()"
   ]
  },
  {
   "cell_type": "code",
   "execution_count": null,
   "metadata": {},
   "outputs": [],
   "source": []
  }
 ],
 "metadata": {
  "kernelspec": {
   "display_name": "Python 3",
   "language": "python",
   "name": "python3"
  },
  "language_info": {
   "codemirror_mode": {
    "name": "ipython",
    "version": 3
   },
   "file_extension": ".py",
   "mimetype": "text/x-python",
   "name": "python",
   "nbconvert_exporter": "python",
   "pygments_lexer": "ipython3",
   "version": "3.8.5"
  },
  "toc": {
   "base_numbering": 1,
   "nav_menu": {},
   "number_sections": true,
   "sideBar": true,
   "skip_h1_title": false,
   "title_cell": "Table of Contents",
   "title_sidebar": "Contents",
   "toc_cell": true,
   "toc_position": {},
   "toc_section_display": true,
   "toc_window_display": true
  }
 },
 "nbformat": 4,
 "nbformat_minor": 4
}
