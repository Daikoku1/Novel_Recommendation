{
 "cells": [
  {
   "cell_type": "code",
   "execution_count": 3,
   "metadata": {},
   "outputs": [],
   "source": [
    "from bs4 import BeautifulSoup\n",
    "import requests"
   ]
  },
  {
   "cell_type": "code",
   "execution_count": 4,
   "metadata": {
    "scrolled": true
   },
   "outputs": [],
   "source": [
    "url = 'https://sosul.network/series/'"
   ]
  },
  {
   "cell_type": "code",
   "execution_count": 5,
   "metadata": {
    "scrolled": true
   },
   "outputs": [],
   "source": [
    "for p in range(1, 100):\n",
    "    params = {'order_by' : 'review', 'page' : f'{p}'}\n",
    "    res = requests.get(url, params = params)\n",
    "    break"
   ]
  },
  {
   "cell_type": "code",
   "execution_count": 6,
   "metadata": {},
   "outputs": [],
   "source": [
    "soup = BeautifulSoup(res.content, 'html.parser')\n",
    "a_li = soup.find_all('div', class_='col-6 col-md-4 col-lg-15')"
   ]
  },
  {
   "cell_type": "code",
   "execution_count": 7,
   "metadata": {},
   "outputs": [
    {
     "data": {
      "text/plain": [
       "30"
      ]
     },
     "execution_count": 7,
     "metadata": {},
     "output_type": "execute_result"
    }
   ],
   "source": [
    "len(a_li)"
   ]
  },
  {
   "cell_type": "code",
   "execution_count": 8,
   "metadata": {},
   "outputs": [
    {
     "name": "stdout",
     "output_type": "stream",
     "text": [
      "내가하면 오리지널 남이하면 파쿠리라는 갓 마인드를 가진작가님의 작품거기에 문피아에 똥꼬를 품\n",
      "['?filter', 'review&order_by', 'like_count&page', '2']\n",
      "https://sosul.network/series/190?filter=review&order_by=like_count&page=2\n",
      "다른 사람들의 리뷰도 사실 크게 틀린 것은 아님 뭐... 개인 차이가 있는 거긴 한데 나도 어느 부분의 공감하는 것도 있음. 다만 이곳의 평은 무섭구나 함. 세계관도 정말 넓긴 한데... 다음 작품에서는 그냥 다른 판타지 처럼 완전히 새로운 판타지 세계를 쓰는 것도 좋을 듯 확실히 작가가 글을 잘 쓰고 어삭하거나 이상한 부분도 크게 없음 비엘은 잘 모르겠으나 읽는 데에 큰 불평을 가져본 적은 없음. 영화로 5섯편 제작된다고도 함 신과 함께 제작사 에서 만든다고 하는데 큰 기대는 안함 그리고 다른 작가가 표절했다는 말이 많은데... 그건 사실 동의하기 조금 어러움 어쩔 수 없이 세계관을 빌려 쓰고 그러면 겹치는 부분이 많은 건 당연할지도 모르고 아마 이전의 작품과 이것역시 비슷한 부분은 많을 지도 모름여튼 그래도 난 기승전결 좋은 작품중 하나인 것 만큼은 확실하다고 생각하는 바임.\n",
      "['?filter', 'review&order_by', 'like_count&page', '3']\n",
      "https://sosul.network/series/190?filter=review&order_by=like_count&page=3\n",
      "이거저거 다 쓰까다 잘 버무려서 잘 읽고 있었는데 갑자기 분위기 똥구멍됨\n",
      "['?filter', 'review&order_by', 'like_count&page', '4']\n",
      "https://sosul.network/series/190?filter=review&order_by=like_count&page=4\n",
      "초반에는 재미있는 요소를 미친듯이 넣고전개속도 긴장감 등은 꽤 뛰어나다 할수있다.그러나 소설 중후반부터는 bl요소를 첨가하는 덕분에 bl빠들의 필독서가 되었고원래 보던 독자들을 기만하는 행위를 하였음.분명 초반재미는 있다 허나 초중반까지만을 읽기를 권함\n",
      "['?filter', 'review&order_by', 'like_count&page', '5']\n",
      "https://sosul.network/series/190?filter=review&order_by=like_count&page=5\n",
      "초반엔 괜찮았는데 같은패턴의 반복이 심함 그러다보니 후반부엔 위기가 와도 주인공이 위험할거란 긴장감이 전혀 안들게됨. 그리고 논란이 있듯 후반부로 갈수록 특정 독자층의 취향에 편중된 스토리 전개를 보여주고 기존 스토리도 고치는 등 문제가 있음\n",
      "['?filter', 'review&order_by', 'like_count&page', '6']\n",
      "https://sosul.network/series/190?filter=review&order_by=like_count&page=6\n",
      "딱 100화까지만 봐라 별점이1점인이유 500화중 100화까지만 볼만해서\n",
      "['?filter', 'review&order_by', 'like_count&page', '7']\n",
      "https://sosul.network/series/190?filter=review&order_by=like_count&page=7\n",
      "상업성 똥꼬화나 자기도 누더기골렘이면서 인성터진 은소로 표절 고로시는 둘째치고 그냥 작품성이 좋지 않음등장인물 기억도 안하고 비중있게 나오든 뭔가 스토리에 관계가 있어보이든 다 묻힘bl팬덤이 싫다고 파천검성 삭제되고 온갖 떡밥 다뿌리던 장하영은 공기화에 초반 등장인물들 언급 제로, 하차자들 같은 등장인물도 전부 언급 전혀 안됨걍 누더기골렘이 상업성 추구하면서 내로남불과 있지도 않은 오지지널리티를 외치는 불쏘시개임0점 없는게 아쉽다\n",
      "['?filter', 'review&order_by', 'like_count&page', '8']\n",
      "https://sosul.network/series/190?filter=review&order_by=like_count&page=8\n",
      "상업적이고 의도가 보이는 부분이 있으나몰입도가 높고 작품을 이끌어나가는 센스가 있다.뒤로 갈 수록 논란거리가 많은 작품이며 그만큼 작가가 상업적으로 영리하게 이용했다는 느낌이 든다.\n",
      "['?filter', 'review&order_by', 'like_count&page', '9']\n",
      "https://sosul.network/series/190?filter=review&order_by=like_count&page=9\n",
      "잘팔린데는 이유가 있다 생각한다 잘쓰기도 했고 특히 작가가 매화마다 내용 참 잘 끊는거 같다 설정충 기질이 다분하긴 하지만 그런거 좋아하면 참 재미있게 볼 수 있다머 똥꼬코인 욕해도 어쩔텐가 너무 잘팔렸는데 ㅋㅋ 200화 정도까지 굉장히 재밋게 읽음 그 뒤로는 알아서들 하시길\n",
      "['?filter', 'review&order_by', 'like_count&page', '10']\n",
      "https://sosul.network/series/190?filter=review&order_by=like_count&page=10\n",
      "인기있던 작품은 이유가 있다\n",
      "['?filter', 'review&order_by', 'like_count&page', '11']\n",
      "https://sosul.network/series/190?filter=review&order_by=like_count&page=11\n",
      "괜찮게 봄\n",
      "['?filter', 'review&order_by', 'like_count&page', '12']\n",
      "https://sosul.network/series/190?filter=review&order_by=like_count&page=12\n",
      "악의적인 댓글들 캡쳐 완료\n",
      "['?filter', 'review&order_by', 'like_count&page', '13']\n",
      "https://sosul.network/series/190?filter=review&order_by=like_count&page=13\n",
      "항문소양증항문 관련 질환은 치료가 빠를 수록 좋다.\n",
      "['#']\n"
     ]
    }
   ],
   "source": [
    "for i in a_li:\n",
    "    a = i.find('div', class_='product-title')\n",
    "    path = a.a['href']\n",
    "    url = 'https://sosul.network' + path\n",
    "    make_review(url)\n",
    "    break"
   ]
  },
  {
   "cell_type": "code",
   "execution_count": null,
   "metadata": {},
   "outputs": [],
   "source": [
    "a"
   ]
  },
  {
   "cell_type": "code",
   "execution_count": null,
   "metadata": {},
   "outputs": [],
   "source": [
    "a.a['href']"
   ]
  },
  {
   "cell_type": "code",
   "execution_count": null,
   "metadata": {},
   "outputs": [],
   "source": []
  },
  {
   "cell_type": "code",
   "execution_count": null,
   "metadata": {},
   "outputs": [],
   "source": []
  },
  {
   "cell_type": "code",
   "execution_count": 2,
   "metadata": {},
   "outputs": [],
   "source": [
    "import pandas as pd\n",
    "\n",
    "def make_review(url):\n",
    "    base_url = url\n",
    "    while True:\n",
    "        res = requests.get(url)\n",
    "        soup = BeautifulSoup(res.content, 'html.parser')\n",
    "        review_li = soup.find_all('div', class_ = 'comment widget p-cb')\n",
    "        idx = 0\n",
    "        for r in review_li:\n",
    "            b = r.find('div', class_ = 'text').find('p', class_='content-txt').text\n",
    "            print(b)\n",
    "            break\n",
    "        idx += 1\n",
    "        next_page = soup.find('ul', class_ = \"pagination justify-content-center\").find_all('li')\n",
    "        c = next_page[-1].a['href']\n",
    "        print(c.split('='))\n",
    "        if c.split('=')[-1] == '#':\n",
    "            break\n",
    "        url = base_url + c\n",
    "        print(url)"
   ]
  },
  {
   "cell_type": "code",
   "execution_count": null,
   "metadata": {},
   "outputs": [],
   "source": [
    "?filter=review&order_by=like_count&page=2"
   ]
  }
 ],
 "metadata": {
  "kernelspec": {
   "display_name": "Python 3",
   "language": "python",
   "name": "python3"
  },
  "language_info": {
   "codemirror_mode": {
    "name": "ipython",
    "version": 3
   },
   "file_extension": ".py",
   "mimetype": "text/x-python",
   "name": "python",
   "nbconvert_exporter": "python",
   "pygments_lexer": "ipython3",
   "version": "3.8.5"
  }
 },
 "nbformat": 4,
 "nbformat_minor": 4
}
