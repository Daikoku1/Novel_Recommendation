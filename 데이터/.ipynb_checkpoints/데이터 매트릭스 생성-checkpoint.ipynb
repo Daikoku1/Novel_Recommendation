{
 "cells": [
  {
   "cell_type": "markdown",
   "metadata": {},
   "source": [
    "# 데이터 전처리"
   ]
  },
  {
   "cell_type": "markdown",
   "metadata": {},
   "source": [
    "## 데이터 로드"
   ]
  },
  {
   "cell_type": "code",
   "execution_count": 2,
   "metadata": {},
   "outputs": [],
   "source": [
    "import pickle, os\n",
    "path = os.getenv(\"HOME\") + '/project_data/naver_movie_review.pickle'"
   ]
  },
  {
   "cell_type": "code",
   "execution_count": 3,
   "metadata": {},
   "outputs": [
    {
     "data": {
      "text/html": [
       "<div>\n",
       "<style scoped>\n",
       "    .dataframe tbody tr th:only-of-type {\n",
       "        vertical-align: middle;\n",
       "    }\n",
       "\n",
       "    .dataframe tbody tr th {\n",
       "        vertical-align: top;\n",
       "    }\n",
       "\n",
       "    .dataframe thead th {\n",
       "        text-align: right;\n",
       "    }\n",
       "</style>\n",
       "<table border=\"1\" class=\"dataframe\">\n",
       "  <thead>\n",
       "    <tr style=\"text-align: right;\">\n",
       "      <th></th>\n",
       "      <th>number</th>\n",
       "      <th>title</th>\n",
       "      <th>score</th>\n",
       "      <th>review</th>\n",
       "      <th>auther</th>\n",
       "    </tr>\n",
       "  </thead>\n",
       "  <tbody>\n",
       "    <tr>\n",
       "      <th>0</th>\n",
       "      <td>17238977</td>\n",
       "      <td>시네마 천국</td>\n",
       "      <td>10</td>\n",
       "      <td>야외상영할 때 엘레나가 갑작스레 와서 키스할 때 진짜 너무 설레였다... 사랑하고 ...</td>\n",
       "      <td>wusl****</td>\n",
       "    </tr>\n",
       "    <tr>\n",
       "      <th>1</th>\n",
       "      <td>17238637</td>\n",
       "      <td>시네마 천국</td>\n",
       "      <td>10</td>\n",
       "      <td>올타임 넘버원 모든 면에서 최고의 영화~</td>\n",
       "      <td>park****</td>\n",
       "    </tr>\n",
       "    <tr>\n",
       "      <th>2</th>\n",
       "      <td>17237730</td>\n",
       "      <td>시네마 천국</td>\n",
       "      <td>9</td>\n",
       "      <td>토토의 영화관은 사라져도 토토와 알프레도의 추억은 계속해서 상영기에서 돌아간다.</td>\n",
       "      <td>kjes****</td>\n",
       "    </tr>\n",
       "    <tr>\n",
       "      <th>3</th>\n",
       "      <td>17236527</td>\n",
       "      <td>시네마 천국</td>\n",
       "      <td>5</td>\n",
       "      <td>이거보다 더 오래된 영화여도 충분히 감동 깊게 재밌게 봤던 영화도 많았다. 대부를 ...</td>\n",
       "      <td>mrki****</td>\n",
       "    </tr>\n",
       "    <tr>\n",
       "      <th>4</th>\n",
       "      <td>17234710</td>\n",
       "      <td>시네마 천국</td>\n",
       "      <td>10</td>\n",
       "      <td></td>\n",
       "      <td>wldu****</td>\n",
       "    </tr>\n",
       "  </tbody>\n",
       "</table>\n",
       "</div>"
      ],
      "text/plain": [
       "     number   title score                                             review  \\\n",
       "0  17238977  시네마 천국    10  야외상영할 때 엘레나가 갑작스레 와서 키스할 때 진짜 너무 설레였다... 사랑하고 ...   \n",
       "1  17238637  시네마 천국    10                             올타임 넘버원 모든 면에서 최고의 영화~   \n",
       "2  17237730  시네마 천국     9       토토의 영화관은 사라져도 토토와 알프레도의 추억은 계속해서 상영기에서 돌아간다.   \n",
       "3  17236527  시네마 천국     5  이거보다 더 오래된 영화여도 충분히 감동 깊게 재밌게 봤던 영화도 많았다. 대부를 ...   \n",
       "4  17234710  시네마 천국    10                                                      \n",
       "\n",
       "     auther  \n",
       "0  wusl****  \n",
       "1  park****  \n",
       "2  kjes****  \n",
       "3  mrki****  \n",
       "4  wldu****  "
      ]
     },
     "execution_count": 3,
     "metadata": {},
     "output_type": "execute_result"
    }
   ],
   "source": [
    "import pandas as pd\n",
    "data = pd.read_pickle(path)\n",
    "data.head()"
   ]
  },
  {
   "cell_type": "markdown",
   "metadata": {},
   "source": [
    "## 결측치 제거"
   ]
  },
  {
   "cell_type": "code",
   "execution_count": 4,
   "metadata": {},
   "outputs": [
    {
     "data": {
      "text/plain": [
       "8114820"
      ]
     },
     "execution_count": 4,
     "metadata": {},
     "output_type": "execute_result"
    }
   ],
   "source": [
    "len(data)"
   ]
  },
  {
   "cell_type": "code",
   "execution_count": 5,
   "metadata": {},
   "outputs": [
    {
     "name": "stdout",
     "output_type": "stream",
     "text": [
      "<class 'pandas.core.frame.DataFrame'>\n",
      "RangeIndex: 8114820 entries, 0 to 8114819\n",
      "Data columns (total 5 columns):\n",
      " #   Column  Dtype \n",
      "---  ------  ----- \n",
      " 0   number  object\n",
      " 1   title   object\n",
      " 2   score   object\n",
      " 3   review  object\n",
      " 4   auther  object\n",
      "dtypes: object(5)\n",
      "memory usage: 309.6+ MB\n"
     ]
    }
   ],
   "source": [
    "data.info()"
   ]
  },
  {
   "cell_type": "code",
   "execution_count": 6,
   "metadata": {},
   "outputs": [],
   "source": [
    "data = data[data['review'] != '']"
   ]
  },
  {
   "cell_type": "code",
   "execution_count": 7,
   "metadata": {},
   "outputs": [
    {
     "data": {
      "text/plain": [
       "8062953"
      ]
     },
     "execution_count": 7,
     "metadata": {},
     "output_type": "execute_result"
    }
   ],
   "source": [
    "len(data)"
   ]
  },
  {
   "cell_type": "markdown",
   "metadata": {},
   "source": [
    "## 헤비 유저 특정\n",
    "- 리뷰 개수가 10개 이상인 유저 데이터만 사용"
   ]
  },
  {
   "cell_type": "code",
   "execution_count": 8,
   "metadata": {},
   "outputs": [
    {
     "data": {
      "text/html": [
       "<div>\n",
       "<style scoped>\n",
       "    .dataframe tbody tr th:only-of-type {\n",
       "        vertical-align: middle;\n",
       "    }\n",
       "\n",
       "    .dataframe tbody tr th {\n",
       "        vertical-align: top;\n",
       "    }\n",
       "\n",
       "    .dataframe thead th {\n",
       "        text-align: right;\n",
       "    }\n",
       "</style>\n",
       "<table border=\"1\" class=\"dataframe\">\n",
       "  <thead>\n",
       "    <tr style=\"text-align: right;\">\n",
       "      <th></th>\n",
       "      <th>number</th>\n",
       "      <th>title</th>\n",
       "      <th>score</th>\n",
       "      <th>review</th>\n",
       "      <th>auther</th>\n",
       "    </tr>\n",
       "  </thead>\n",
       "  <tbody>\n",
       "    <tr>\n",
       "      <th>0</th>\n",
       "      <td>17238977</td>\n",
       "      <td>시네마 천국</td>\n",
       "      <td>10</td>\n",
       "      <td>야외상영할 때 엘레나가 갑작스레 와서 키스할 때 진짜 너무 설레였다... 사랑하고 ...</td>\n",
       "      <td>wusl****</td>\n",
       "    </tr>\n",
       "    <tr>\n",
       "      <th>1</th>\n",
       "      <td>17238637</td>\n",
       "      <td>시네마 천국</td>\n",
       "      <td>10</td>\n",
       "      <td>올타임 넘버원 모든 면에서 최고의 영화~</td>\n",
       "      <td>park****</td>\n",
       "    </tr>\n",
       "    <tr>\n",
       "      <th>2</th>\n",
       "      <td>17237730</td>\n",
       "      <td>시네마 천국</td>\n",
       "      <td>9</td>\n",
       "      <td>토토의 영화관은 사라져도 토토와 알프레도의 추억은 계속해서 상영기에서 돌아간다.</td>\n",
       "      <td>kjes****</td>\n",
       "    </tr>\n",
       "    <tr>\n",
       "      <th>3</th>\n",
       "      <td>17236527</td>\n",
       "      <td>시네마 천국</td>\n",
       "      <td>5</td>\n",
       "      <td>이거보다 더 오래된 영화여도 충분히 감동 깊게 재밌게 봤던 영화도 많았다. 대부를 ...</td>\n",
       "      <td>mrki****</td>\n",
       "    </tr>\n",
       "    <tr>\n",
       "      <th>5</th>\n",
       "      <td>17234247</td>\n",
       "      <td>시네마 천국</td>\n",
       "      <td>10</td>\n",
       "      <td>어딘가 마음이 꿈틀대는 영화.</td>\n",
       "      <td>s2fr****</td>\n",
       "    </tr>\n",
       "  </tbody>\n",
       "</table>\n",
       "</div>"
      ],
      "text/plain": [
       "     number   title score                                             review  \\\n",
       "0  17238977  시네마 천국    10  야외상영할 때 엘레나가 갑작스레 와서 키스할 때 진짜 너무 설레였다... 사랑하고 ...   \n",
       "1  17238637  시네마 천국    10                             올타임 넘버원 모든 면에서 최고의 영화~   \n",
       "2  17237730  시네마 천국     9       토토의 영화관은 사라져도 토토와 알프레도의 추억은 계속해서 상영기에서 돌아간다.   \n",
       "3  17236527  시네마 천국     5  이거보다 더 오래된 영화여도 충분히 감동 깊게 재밌게 봤던 영화도 많았다. 대부를 ...   \n",
       "5  17234247  시네마 천국    10                                   어딘가 마음이 꿈틀대는 영화.   \n",
       "\n",
       "     auther  \n",
       "0  wusl****  \n",
       "1  park****  \n",
       "2  kjes****  \n",
       "3  mrki****  \n",
       "5  s2fr****  "
      ]
     },
     "execution_count": 8,
     "metadata": {},
     "output_type": "execute_result"
    }
   ],
   "source": [
    "data.head()"
   ]
  },
  {
   "cell_type": "code",
   "execution_count": 9,
   "metadata": {},
   "outputs": [
    {
     "data": {
      "text/html": [
       "<div>\n",
       "<style scoped>\n",
       "    .dataframe tbody tr th:only-of-type {\n",
       "        vertical-align: middle;\n",
       "    }\n",
       "\n",
       "    .dataframe tbody tr th {\n",
       "        vertical-align: top;\n",
       "    }\n",
       "\n",
       "    .dataframe thead th {\n",
       "        text-align: right;\n",
       "    }\n",
       "</style>\n",
       "<table border=\"1\" class=\"dataframe\">\n",
       "  <thead>\n",
       "    <tr style=\"text-align: right;\">\n",
       "      <th></th>\n",
       "      <th>number</th>\n",
       "      <th>title</th>\n",
       "      <th>score</th>\n",
       "      <th>review</th>\n",
       "      <th>auther</th>\n",
       "    </tr>\n",
       "  </thead>\n",
       "  <tbody>\n",
       "    <tr>\n",
       "      <th>0</th>\n",
       "      <td>17238977</td>\n",
       "      <td>시네마 천국</td>\n",
       "      <td>10</td>\n",
       "      <td>야외상영할 때 엘레나가 갑작스레 와서 키스할 때 진짜 너무 설레였다... 사랑하고 ...</td>\n",
       "      <td>wusl****</td>\n",
       "    </tr>\n",
       "    <tr>\n",
       "      <th>1</th>\n",
       "      <td>17238637</td>\n",
       "      <td>시네마 천국</td>\n",
       "      <td>10</td>\n",
       "      <td>올타임 넘버원 모든 면에서 최고의 영화~</td>\n",
       "      <td>park****</td>\n",
       "    </tr>\n",
       "    <tr>\n",
       "      <th>2</th>\n",
       "      <td>17237730</td>\n",
       "      <td>시네마 천국</td>\n",
       "      <td>9</td>\n",
       "      <td>토토의 영화관은 사라져도 토토와 알프레도의 추억은 계속해서 상영기에서 돌아간다.</td>\n",
       "      <td>kjes****</td>\n",
       "    </tr>\n",
       "    <tr>\n",
       "      <th>3</th>\n",
       "      <td>17236527</td>\n",
       "      <td>시네마 천국</td>\n",
       "      <td>5</td>\n",
       "      <td>이거보다 더 오래된 영화여도 충분히 감동 깊게 재밌게 봤던 영화도 많았다. 대부를 ...</td>\n",
       "      <td>mrki****</td>\n",
       "    </tr>\n",
       "    <tr>\n",
       "      <th>5</th>\n",
       "      <td>17234247</td>\n",
       "      <td>시네마 천국</td>\n",
       "      <td>10</td>\n",
       "      <td>어딘가 마음이 꿈틀대는 영화.</td>\n",
       "      <td>s2fr****</td>\n",
       "    </tr>\n",
       "  </tbody>\n",
       "</table>\n",
       "</div>"
      ],
      "text/plain": [
       "     number   title score                                             review  \\\n",
       "0  17238977  시네마 천국    10  야외상영할 때 엘레나가 갑작스레 와서 키스할 때 진짜 너무 설레였다... 사랑하고 ...   \n",
       "1  17238637  시네마 천국    10                             올타임 넘버원 모든 면에서 최고의 영화~   \n",
       "2  17237730  시네마 천국     9       토토의 영화관은 사라져도 토토와 알프레도의 추억은 계속해서 상영기에서 돌아간다.   \n",
       "3  17236527  시네마 천국     5  이거보다 더 오래된 영화여도 충분히 감동 깊게 재밌게 봤던 영화도 많았다. 대부를 ...   \n",
       "5  17234247  시네마 천국    10                                   어딘가 마음이 꿈틀대는 영화.   \n",
       "\n",
       "     auther  \n",
       "0  wusl****  \n",
       "1  park****  \n",
       "2  kjes****  \n",
       "3  mrki****  \n",
       "5  s2fr****  "
      ]
     },
     "execution_count": 9,
     "metadata": {},
     "output_type": "execute_result"
    }
   ],
   "source": [
    "df = data[data.groupby('auther')['score'].transform('size') > 10]\n",
    "df.head()"
   ]
  },
  {
   "cell_type": "code",
   "execution_count": 10,
   "metadata": {},
   "outputs": [
    {
     "data": {
      "text/plain": [
       "7217893"
      ]
     },
     "execution_count": 10,
     "metadata": {},
     "output_type": "execute_result"
    }
   ],
   "source": [
    "len(df)"
   ]
  },
  {
   "cell_type": "code",
   "execution_count": 11,
   "metadata": {},
   "outputs": [
    {
     "data": {
      "text/plain": [
       "83006"
      ]
     },
     "execution_count": 11,
     "metadata": {},
     "output_type": "execute_result"
    }
   ],
   "source": [
    "df['auther'].nunique()"
   ]
  },
  {
   "cell_type": "code",
   "execution_count": 12,
   "metadata": {},
   "outputs": [
    {
     "data": {
      "text/html": [
       "<div>\n",
       "<style scoped>\n",
       "    .dataframe tbody tr th:only-of-type {\n",
       "        vertical-align: middle;\n",
       "    }\n",
       "\n",
       "    .dataframe tbody tr th {\n",
       "        vertical-align: top;\n",
       "    }\n",
       "\n",
       "    .dataframe thead th {\n",
       "        text-align: right;\n",
       "    }\n",
       "</style>\n",
       "<table border=\"1\" class=\"dataframe\">\n",
       "  <thead>\n",
       "    <tr style=\"text-align: right;\">\n",
       "      <th></th>\n",
       "      <th>number</th>\n",
       "      <th>title</th>\n",
       "      <th>score</th>\n",
       "      <th>review</th>\n",
       "      <th>auther</th>\n",
       "    </tr>\n",
       "  </thead>\n",
       "  <tbody>\n",
       "    <tr>\n",
       "      <th>0</th>\n",
       "      <td>17238977</td>\n",
       "      <td>시네마 천국</td>\n",
       "      <td>10</td>\n",
       "      <td>야외상영할 때 엘레나가 갑작스레 와서 키스할 때 진짜 너무 설레였다... 사랑하고 ...</td>\n",
       "      <td>wusl****</td>\n",
       "    </tr>\n",
       "    <tr>\n",
       "      <th>1</th>\n",
       "      <td>17238637</td>\n",
       "      <td>시네마 천국</td>\n",
       "      <td>10</td>\n",
       "      <td>올타임 넘버원 모든 면에서 최고의 영화~</td>\n",
       "      <td>park****</td>\n",
       "    </tr>\n",
       "    <tr>\n",
       "      <th>2</th>\n",
       "      <td>17237730</td>\n",
       "      <td>시네마 천국</td>\n",
       "      <td>9</td>\n",
       "      <td>토토의 영화관은 사라져도 토토와 알프레도의 추억은 계속해서 상영기에서 돌아간다.</td>\n",
       "      <td>kjes****</td>\n",
       "    </tr>\n",
       "    <tr>\n",
       "      <th>3</th>\n",
       "      <td>17236527</td>\n",
       "      <td>시네마 천국</td>\n",
       "      <td>5</td>\n",
       "      <td>이거보다 더 오래된 영화여도 충분히 감동 깊게 재밌게 봤던 영화도 많았다. 대부를 ...</td>\n",
       "      <td>mrki****</td>\n",
       "    </tr>\n",
       "    <tr>\n",
       "      <th>4</th>\n",
       "      <td>17234247</td>\n",
       "      <td>시네마 천국</td>\n",
       "      <td>10</td>\n",
       "      <td>어딘가 마음이 꿈틀대는 영화.</td>\n",
       "      <td>s2fr****</td>\n",
       "    </tr>\n",
       "    <tr>\n",
       "      <th>...</th>\n",
       "      <td>...</td>\n",
       "      <td>...</td>\n",
       "      <td>...</td>\n",
       "      <td>...</td>\n",
       "      <td>...</td>\n",
       "    </tr>\n",
       "    <tr>\n",
       "      <th>7217888</th>\n",
       "      <td>17242576</td>\n",
       "      <td>애비규환</td>\n",
       "      <td>8</td>\n",
       "      <td>배우들의 연기만 좋았던 영화</td>\n",
       "      <td>dpfk****</td>\n",
       "    </tr>\n",
       "    <tr>\n",
       "      <th>7217889</th>\n",
       "      <td>17242563</td>\n",
       "      <td>애비규환</td>\n",
       "      <td>10</td>\n",
       "      <td>새롭고 신선한 영화였고 시간가는줄 모르고 재밌게 봤습니다! 배우들의 연기가 너무 좋았어요</td>\n",
       "      <td>sj00****</td>\n",
       "    </tr>\n",
       "    <tr>\n",
       "      <th>7217890</th>\n",
       "      <td>17242552</td>\n",
       "      <td>애비규환</td>\n",
       "      <td>10</td>\n",
       "      <td>진짜 기대보다 재밌어서 시간 가는줄모르고 봤어요 크리스탈 연기가 참 좋았고 딱 토일...</td>\n",
       "      <td>gun4****</td>\n",
       "    </tr>\n",
       "    <tr>\n",
       "      <th>7217891</th>\n",
       "      <td>17242524</td>\n",
       "      <td>애비규환</td>\n",
       "      <td>1</td>\n",
       "      <td>애비규환이라니요? 만약 애미규환으로 영화가 나온다면 페미분들 가만히 있었을까요? 평...</td>\n",
       "      <td>suki****</td>\n",
       "    </tr>\n",
       "    <tr>\n",
       "      <th>7217892</th>\n",
       "      <td>17242510</td>\n",
       "      <td>애비규환</td>\n",
       "      <td>10</td>\n",
       "      <td>제대로 키우지도 못할 아이 입양해서 죽게 만든 그 아줌마 끝까지 천벌 받았으면 좋겠...</td>\n",
       "      <td>rlad****</td>\n",
       "    </tr>\n",
       "  </tbody>\n",
       "</table>\n",
       "<p>7217893 rows × 5 columns</p>\n",
       "</div>"
      ],
      "text/plain": [
       "           number   title score  \\\n",
       "0        17238977  시네마 천국    10   \n",
       "1        17238637  시네마 천국    10   \n",
       "2        17237730  시네마 천국     9   \n",
       "3        17236527  시네마 천국     5   \n",
       "4        17234247  시네마 천국    10   \n",
       "...           ...     ...   ...   \n",
       "7217888  17242576    애비규환     8   \n",
       "7217889  17242563    애비규환    10   \n",
       "7217890  17242552    애비규환    10   \n",
       "7217891  17242524    애비규환     1   \n",
       "7217892  17242510    애비규환    10   \n",
       "\n",
       "                                                    review    auther  \n",
       "0        야외상영할 때 엘레나가 갑작스레 와서 키스할 때 진짜 너무 설레였다... 사랑하고 ...  wusl****  \n",
       "1                                   올타임 넘버원 모든 면에서 최고의 영화~  park****  \n",
       "2             토토의 영화관은 사라져도 토토와 알프레도의 추억은 계속해서 상영기에서 돌아간다.  kjes****  \n",
       "3        이거보다 더 오래된 영화여도 충분히 감동 깊게 재밌게 봤던 영화도 많았다. 대부를 ...  mrki****  \n",
       "4                                         어딘가 마음이 꿈틀대는 영화.  s2fr****  \n",
       "...                                                    ...       ...  \n",
       "7217888                                   배우들의 연기만 좋았던 영화   dpfk****  \n",
       "7217889  새롭고 신선한 영화였고 시간가는줄 모르고 재밌게 봤습니다! 배우들의 연기가 너무 좋았어요  sj00****  \n",
       "7217890  진짜 기대보다 재밌어서 시간 가는줄모르고 봤어요 크리스탈 연기가 참 좋았고 딱 토일...  gun4****  \n",
       "7217891  애비규환이라니요? 만약 애미규환으로 영화가 나온다면 페미분들 가만히 있었을까요? 평...  suki****  \n",
       "7217892  제대로 키우지도 못할 아이 입양해서 죽게 만든 그 아줌마 끝까지 천벌 받았으면 좋겠...  rlad****  \n",
       "\n",
       "[7217893 rows x 5 columns]"
      ]
     },
     "execution_count": 12,
     "metadata": {},
     "output_type": "execute_result"
    }
   ],
   "source": [
    "df = df.reset_index(drop=True)\n",
    "df"
   ]
  },
  {
   "cell_type": "markdown",
   "metadata": {},
   "source": [
    "# 매트릭스 생성"
   ]
  },
  {
   "cell_type": "markdown",
   "metadata": {},
   "source": [
    "## 유저 인코딩"
   ]
  },
  {
   "cell_type": "code",
   "execution_count": 13,
   "metadata": {},
   "outputs": [
    {
     "data": {
      "text/plain": [
       "number    7217893\n",
       "title        7212\n",
       "score          10\n",
       "review    6886431\n",
       "auther      83006\n",
       "dtype: int64"
      ]
     },
     "execution_count": 13,
     "metadata": {},
     "output_type": "execute_result"
    }
   ],
   "source": [
    "df.nunique()"
   ]
  },
  {
   "cell_type": "markdown",
   "metadata": {},
   "source": [
    "### user_to_idx를 이용한 방법\n",
    "- 속도가 느림"
   ]
  },
  {
   "cell_type": "code",
   "execution_count": 14,
   "metadata": {},
   "outputs": [],
   "source": [
    "# user_to_idx = {u:idx for idx, u in enumerate(df['auther'].unique())}\n",
    "# len(user_to_idx)\n",
    "# df['auther'].nunique() == df['user_idx'].nunique()"
   ]
  },
  {
   "cell_type": "markdown",
   "metadata": {},
   "source": [
    "### LabelEncoder를 이용한 방법"
   ]
  },
  {
   "cell_type": "code",
   "execution_count": 15,
   "metadata": {},
   "outputs": [
    {
     "data": {
      "text/plain": [
       "LabelEncoder()"
      ]
     },
     "execution_count": 15,
     "metadata": {},
     "output_type": "execute_result"
    }
   ],
   "source": [
    "from sklearn.preprocessing import LabelEncoder\n",
    "le = LabelEncoder()\n",
    "le.fit(df['auther'].unique())"
   ]
  },
  {
   "cell_type": "code",
   "execution_count": 16,
   "metadata": {},
   "outputs": [
    {
     "data": {
      "text/plain": [
       "array(['00-b****', '0000****', '0001****', ..., 'zzzx****', 'zzzy****',\n",
       "       'zzzz****'], dtype=object)"
      ]
     },
     "execution_count": 16,
     "metadata": {},
     "output_type": "execute_result"
    }
   ],
   "source": [
    "le.classes_"
   ]
  },
  {
   "cell_type": "code",
   "execution_count": 17,
   "metadata": {},
   "outputs": [
    {
     "name": "stdout",
     "output_type": "stream",
     "text": [
      "1.14 s ± 20 ms per loop (mean ± std. dev. of 7 runs, 1 loop each)\n"
     ]
    }
   ],
   "source": [
    "%timeit df['user_idx'] = le.transform(df.auther)"
   ]
  },
  {
   "cell_type": "code",
   "execution_count": 18,
   "metadata": {
    "scrolled": true
   },
   "outputs": [
    {
     "data": {
      "text/html": [
       "<div>\n",
       "<style scoped>\n",
       "    .dataframe tbody tr th:only-of-type {\n",
       "        vertical-align: middle;\n",
       "    }\n",
       "\n",
       "    .dataframe tbody tr th {\n",
       "        vertical-align: top;\n",
       "    }\n",
       "\n",
       "    .dataframe thead th {\n",
       "        text-align: right;\n",
       "    }\n",
       "</style>\n",
       "<table border=\"1\" class=\"dataframe\">\n",
       "  <thead>\n",
       "    <tr style=\"text-align: right;\">\n",
       "      <th></th>\n",
       "      <th>number</th>\n",
       "      <th>title</th>\n",
       "      <th>score</th>\n",
       "      <th>review</th>\n",
       "      <th>auther</th>\n",
       "      <th>user_idx</th>\n",
       "    </tr>\n",
       "  </thead>\n",
       "  <tbody>\n",
       "    <tr>\n",
       "      <th>0</th>\n",
       "      <td>17238977</td>\n",
       "      <td>시네마 천국</td>\n",
       "      <td>10</td>\n",
       "      <td>야외상영할 때 엘레나가 갑작스레 와서 키스할 때 진짜 너무 설레였다... 사랑하고 ...</td>\n",
       "      <td>wusl****</td>\n",
       "      <td>77368</td>\n",
       "    </tr>\n",
       "    <tr>\n",
       "      <th>1</th>\n",
       "      <td>17238637</td>\n",
       "      <td>시네마 천국</td>\n",
       "      <td>10</td>\n",
       "      <td>올타임 넘버원 모든 면에서 최고의 영화~</td>\n",
       "      <td>park****</td>\n",
       "      <td>55852</td>\n",
       "    </tr>\n",
       "    <tr>\n",
       "      <th>2</th>\n",
       "      <td>17237730</td>\n",
       "      <td>시네마 천국</td>\n",
       "      <td>9</td>\n",
       "      <td>토토의 영화관은 사라져도 토토와 알프레도의 추억은 계속해서 상영기에서 돌아간다.</td>\n",
       "      <td>kjes****</td>\n",
       "      <td>40137</td>\n",
       "    </tr>\n",
       "    <tr>\n",
       "      <th>3</th>\n",
       "      <td>17236527</td>\n",
       "      <td>시네마 천국</td>\n",
       "      <td>5</td>\n",
       "      <td>이거보다 더 오래된 영화여도 충분히 감동 깊게 재밌게 봤던 영화도 많았다. 대부를 ...</td>\n",
       "      <td>mrki****</td>\n",
       "      <td>50296</td>\n",
       "    </tr>\n",
       "    <tr>\n",
       "      <th>4</th>\n",
       "      <td>17234247</td>\n",
       "      <td>시네마 천국</td>\n",
       "      <td>10</td>\n",
       "      <td>어딘가 마음이 꿈틀대는 영화.</td>\n",
       "      <td>s2fr****</td>\n",
       "      <td>62819</td>\n",
       "    </tr>\n",
       "  </tbody>\n",
       "</table>\n",
       "</div>"
      ],
      "text/plain": [
       "     number   title score                                             review  \\\n",
       "0  17238977  시네마 천국    10  야외상영할 때 엘레나가 갑작스레 와서 키스할 때 진짜 너무 설레였다... 사랑하고 ...   \n",
       "1  17238637  시네마 천국    10                             올타임 넘버원 모든 면에서 최고의 영화~   \n",
       "2  17237730  시네마 천국     9       토토의 영화관은 사라져도 토토와 알프레도의 추억은 계속해서 상영기에서 돌아간다.   \n",
       "3  17236527  시네마 천국     5  이거보다 더 오래된 영화여도 충분히 감동 깊게 재밌게 봤던 영화도 많았다. 대부를 ...   \n",
       "4  17234247  시네마 천국    10                                   어딘가 마음이 꿈틀대는 영화.   \n",
       "\n",
       "     auther  user_idx  \n",
       "0  wusl****     77368  \n",
       "1  park****     55852  \n",
       "2  kjes****     40137  \n",
       "3  mrki****     50296  \n",
       "4  s2fr****     62819  "
      ]
     },
     "execution_count": 18,
     "metadata": {},
     "output_type": "execute_result"
    }
   ],
   "source": [
    "df.head()"
   ]
  },
  {
   "cell_type": "markdown",
   "metadata": {},
   "source": [
    "## 영화인코딩\n",
    "- apply보다 LabelEncoder가 빠름\n",
    "- 더 빠른 방법으로 추후 변경예정"
   ]
  },
  {
   "cell_type": "markdown",
   "metadata": {},
   "source": [
    "### apply를 이용한 코드"
   ]
  },
  {
   "cell_type": "code",
   "execution_count": 19,
   "metadata": {},
   "outputs": [],
   "source": [
    "# movie_to_idx = {m:idx for idx, m in enumerate(data['title'].unique())}\n",
    "# len(movie_to_idx)"
   ]
  },
  {
   "cell_type": "code",
   "execution_count": 20,
   "metadata": {},
   "outputs": [],
   "source": [
    "# %timeit data['movie_index'] = data.apply(lambda x : movie_to_idx[x['title']], axis = 1)"
   ]
  },
  {
   "cell_type": "markdown",
   "metadata": {},
   "source": [
    "### LabelEncoder를 사용한 코드"
   ]
  },
  {
   "cell_type": "code",
   "execution_count": 21,
   "metadata": {},
   "outputs": [
    {
     "data": {
      "text/plain": [
       "LabelEncoder()"
      ]
     },
     "execution_count": 21,
     "metadata": {},
     "output_type": "execute_result"
    }
   ],
   "source": [
    "le2 = LabelEncoder()\n",
    "le2.fit(df['title'].unique())"
   ]
  },
  {
   "cell_type": "code",
   "execution_count": 22,
   "metadata": {},
   "outputs": [
    {
     "name": "stdout",
     "output_type": "stream",
     "text": [
      "578 ms ± 4.81 ms per loop (mean ± std. dev. of 7 runs, 1 loop each)\n"
     ]
    }
   ],
   "source": [
    "%timeit df['movie_index'] = le2.transform(df.title)"
   ]
  },
  {
   "cell_type": "code",
   "execution_count": 23,
   "metadata": {},
   "outputs": [
    {
     "data": {
      "text/html": [
       "<div>\n",
       "<style scoped>\n",
       "    .dataframe tbody tr th:only-of-type {\n",
       "        vertical-align: middle;\n",
       "    }\n",
       "\n",
       "    .dataframe tbody tr th {\n",
       "        vertical-align: top;\n",
       "    }\n",
       "\n",
       "    .dataframe thead th {\n",
       "        text-align: right;\n",
       "    }\n",
       "</style>\n",
       "<table border=\"1\" class=\"dataframe\">\n",
       "  <thead>\n",
       "    <tr style=\"text-align: right;\">\n",
       "      <th></th>\n",
       "      <th>number</th>\n",
       "      <th>title</th>\n",
       "      <th>score</th>\n",
       "      <th>review</th>\n",
       "      <th>auther</th>\n",
       "      <th>user_idx</th>\n",
       "      <th>movie_index</th>\n",
       "    </tr>\n",
       "  </thead>\n",
       "  <tbody>\n",
       "    <tr>\n",
       "      <th>0</th>\n",
       "      <td>17238977</td>\n",
       "      <td>시네마 천국</td>\n",
       "      <td>10</td>\n",
       "      <td>야외상영할 때 엘레나가 갑작스레 와서 키스할 때 진짜 너무 설레였다... 사랑하고 ...</td>\n",
       "      <td>wusl****</td>\n",
       "      <td>77368</td>\n",
       "      <td>4095</td>\n",
       "    </tr>\n",
       "    <tr>\n",
       "      <th>1</th>\n",
       "      <td>17238637</td>\n",
       "      <td>시네마 천국</td>\n",
       "      <td>10</td>\n",
       "      <td>올타임 넘버원 모든 면에서 최고의 영화~</td>\n",
       "      <td>park****</td>\n",
       "      <td>55852</td>\n",
       "      <td>4095</td>\n",
       "    </tr>\n",
       "    <tr>\n",
       "      <th>2</th>\n",
       "      <td>17237730</td>\n",
       "      <td>시네마 천국</td>\n",
       "      <td>9</td>\n",
       "      <td>토토의 영화관은 사라져도 토토와 알프레도의 추억은 계속해서 상영기에서 돌아간다.</td>\n",
       "      <td>kjes****</td>\n",
       "      <td>40137</td>\n",
       "      <td>4095</td>\n",
       "    </tr>\n",
       "    <tr>\n",
       "      <th>3</th>\n",
       "      <td>17236527</td>\n",
       "      <td>시네마 천국</td>\n",
       "      <td>5</td>\n",
       "      <td>이거보다 더 오래된 영화여도 충분히 감동 깊게 재밌게 봤던 영화도 많았다. 대부를 ...</td>\n",
       "      <td>mrki****</td>\n",
       "      <td>50296</td>\n",
       "      <td>4095</td>\n",
       "    </tr>\n",
       "    <tr>\n",
       "      <th>4</th>\n",
       "      <td>17234247</td>\n",
       "      <td>시네마 천국</td>\n",
       "      <td>10</td>\n",
       "      <td>어딘가 마음이 꿈틀대는 영화.</td>\n",
       "      <td>s2fr****</td>\n",
       "      <td>62819</td>\n",
       "      <td>4095</td>\n",
       "    </tr>\n",
       "  </tbody>\n",
       "</table>\n",
       "</div>"
      ],
      "text/plain": [
       "     number   title score                                             review  \\\n",
       "0  17238977  시네마 천국    10  야외상영할 때 엘레나가 갑작스레 와서 키스할 때 진짜 너무 설레였다... 사랑하고 ...   \n",
       "1  17238637  시네마 천국    10                             올타임 넘버원 모든 면에서 최고의 영화~   \n",
       "2  17237730  시네마 천국     9       토토의 영화관은 사라져도 토토와 알프레도의 추억은 계속해서 상영기에서 돌아간다.   \n",
       "3  17236527  시네마 천국     5  이거보다 더 오래된 영화여도 충분히 감동 깊게 재밌게 봤던 영화도 많았다. 대부를 ...   \n",
       "4  17234247  시네마 천국    10                                   어딘가 마음이 꿈틀대는 영화.   \n",
       "\n",
       "     auther  user_idx  movie_index  \n",
       "0  wusl****     77368         4095  \n",
       "1  park****     55852         4095  \n",
       "2  kjes****     40137         4095  \n",
       "3  mrki****     50296         4095  \n",
       "4  s2fr****     62819         4095  "
      ]
     },
     "execution_count": 23,
     "metadata": {},
     "output_type": "execute_result"
    }
   ],
   "source": [
    "df.head()"
   ]
  },
  {
   "cell_type": "markdown",
   "metadata": {},
   "source": [
    "## 매트릭스"
   ]
  },
  {
   "cell_type": "markdown",
   "metadata": {},
   "source": [
    "### score의 데이터타입 변경"
   ]
  },
  {
   "cell_type": "code",
   "execution_count": 24,
   "metadata": {},
   "outputs": [
    {
     "data": {
      "text/plain": [
       "str"
      ]
     },
     "execution_count": 24,
     "metadata": {},
     "output_type": "execute_result"
    }
   ],
   "source": [
    "type(df.loc[0].score)"
   ]
  },
  {
   "cell_type": "code",
   "execution_count": 25,
   "metadata": {},
   "outputs": [],
   "source": [
    "df['score'] = df.apply(lambda x : int(x['score']), axis = 1)"
   ]
  },
  {
   "cell_type": "code",
   "execution_count": 26,
   "metadata": {},
   "outputs": [
    {
     "data": {
      "text/plain": [
       "numpy.int64"
      ]
     },
     "execution_count": 26,
     "metadata": {},
     "output_type": "execute_result"
    }
   ],
   "source": [
    "type(df.loc[0].score)"
   ]
  },
  {
   "cell_type": "code",
   "execution_count": 27,
   "metadata": {},
   "outputs": [],
   "source": [
    "import numpy as np\n",
    "df.score = df.score.astype(np.int8)"
   ]
  },
  {
   "cell_type": "code",
   "execution_count": 28,
   "metadata": {},
   "outputs": [
    {
     "data": {
      "text/plain": [
       "numpy.int8"
      ]
     },
     "execution_count": 28,
     "metadata": {},
     "output_type": "execute_result"
    }
   ],
   "source": [
    "type(df.loc[0].score)"
   ]
  },
  {
   "cell_type": "code",
   "execution_count": 30,
   "metadata": {},
   "outputs": [],
   "source": [
    "import pickle\n",
    "df.to_pickle('naver_review_preprocessing.pickle')"
   ]
  },
  {
   "cell_type": "code",
   "execution_count": null,
   "metadata": {},
   "outputs": [],
   "source": [
    "# mf_matrix = df.pivot_table('score',index = 'user_idx',columns = 'movie_index')\n",
    "# mf_matrix"
   ]
  }
 ],
 "metadata": {
  "kernelspec": {
   "display_name": "Python 3",
   "language": "python",
   "name": "python3"
  },
  "language_info": {
   "codemirror_mode": {
    "name": "ipython",
    "version": 3
   },
   "file_extension": ".py",
   "mimetype": "text/x-python",
   "name": "python",
   "nbconvert_exporter": "python",
   "pygments_lexer": "ipython3",
   "version": "3.8.5"
  },
  "toc": {
   "base_numbering": 1,
   "nav_menu": {},
   "number_sections": true,
   "sideBar": true,
   "skip_h1_title": false,
   "title_cell": "Table of Contents",
   "title_sidebar": "Contents",
   "toc_cell": false,
   "toc_position": {
    "height": "calc(100% - 180px)",
    "left": "10px",
    "top": "150px",
    "width": "194.361px"
   },
   "toc_section_display": true,
   "toc_window_display": true
  }
 },
 "nbformat": 4,
 "nbformat_minor": 4
}
