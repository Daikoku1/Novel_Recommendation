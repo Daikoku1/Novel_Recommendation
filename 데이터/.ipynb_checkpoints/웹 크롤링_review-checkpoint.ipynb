{
 "cells": [
  {
   "cell_type": "code",
   "execution_count": 1,
   "metadata": {},
   "outputs": [],
   "source": [
    "from bs4 import BeautifulSoup\n",
    "import requests\n",
    "import pandas as pd"
   ]
  },
  {
   "cell_type": "code",
   "execution_count": 4,
   "metadata": {},
   "outputs": [],
   "source": [
    "def make_review(name, url):\n",
    "    base_url = url\n",
    "    df = pd.DataFrame(columns = ['name', 'score', 'review'])\n",
    "    idx = 0\n",
    "    while True:\n",
    "        res = requests.get(url)\n",
    "        soup = BeautifulSoup(res.content, 'html.parser')\n",
    "        review_li = soup.find_all('div', class_ = 'comment widget p-cb')\n",
    "        for r in review_li:\n",
    "            comment = r.find('div', class_ = 'text')\n",
    "            score = comment.find('div', class_ = 'product-rate').find('star-rating')[':rating']\n",
    "            try:\n",
    "                r_text = comment.find('p', class_='content-txt').text\n",
    "            except:\n",
    "                r_text = comment.find('div', class_= 'ac-content').p.text\n",
    "        \n",
    "            df.loc[idx] = [name, score, r_text]\n",
    "            idx += 1\n",
    "        try:\n",
    "            next_page = soup.find('ul', class_ = \"pagination justify-content-center\").find_all('li')\n",
    "            p_num = next_page[-1].a['href']\n",
    "            if p_num.split('=')[-1] == '#':\n",
    "                break\n",
    "            url = base_url + p_num\n",
    "        except:\n",
    "            break\n",
    "    \n",
    "    return df"
   ]
  },
  {
   "cell_type": "code",
   "execution_count": 5,
   "metadata": {
    "scrolled": true
   },
   "outputs": [
    {
     "name": "stdout",
     "output_type": "stream",
     "text": [
      "1\n",
      "2\n",
      "3\n",
      "4\n",
      "5\n",
      "6\n",
      "7\n",
      "8\n",
      "9\n",
      "10\n",
      "11\n",
      "12\n",
      "13\n",
      "14\n",
      "15\n",
      "16\n",
      "17\n",
      "18\n",
      "19\n",
      "20\n",
      "21\n",
      "22\n",
      "23\n",
      "24\n",
      "25\n",
      "26\n",
      "27\n",
      "28\n",
      "29\n",
      "30\n",
      "31\n",
      "32\n",
      "33\n",
      "34\n",
      "35\n",
      "36\n",
      "37\n",
      "38\n",
      "39\n",
      "40\n",
      "41\n",
      "42\n",
      "43\n",
      "44\n",
      "45\n",
      "46\n",
      "47\n",
      "48\n",
      "49\n",
      "50\n",
      "51\n",
      "52\n",
      "53\n",
      "54\n",
      "55\n",
      "56\n",
      "57\n",
      "58\n",
      "59\n",
      "60\n",
      "61\n",
      "62\n",
      "63\n",
      "64\n",
      "65\n",
      "66\n",
      "67\n",
      "68\n",
      "69\n",
      "70\n",
      "71\n",
      "72\n",
      "73\n",
      "74\n",
      "75\n",
      "76\n",
      "77\n",
      "78\n",
      "79\n",
      "80\n",
      "81\n",
      "82\n",
      "83\n",
      "84\n",
      "85\n",
      "86\n",
      "87\n",
      "88\n",
      "89\n",
      "90\n",
      "91\n",
      "92\n",
      "93\n",
      "94\n",
      "95\n",
      "96\n",
      "97\n",
      "98\n",
      "99\n"
     ]
    }
   ],
   "source": [
    "url = 'https://sosul.network/series/'\n",
    "df = pd.DataFrame(columns = ['name', 'score', 'review'])\n",
    "name_to_idx = {}\n",
    "for p in range(1, 100):\n",
    "    print(p)\n",
    "    params = {'order_by' : 'review', 'page' : f'{p}'}\n",
    "    res = requests.get(url, params = params)\n",
    "    soup = BeautifulSoup(res.content, 'html.parser')\n",
    "    a_li = soup.find_all('div', class_='col-6 col-md-4 col-lg-15')\n",
    "    \n",
    "    for i in a_li:\n",
    "        a = i.find('div', class_='product-title')\n",
    "        path = a.a['href']\n",
    "        sub_url = 'https://sosul.network' + path\n",
    "        name = path.split('/')[-1]\n",
    "        name_to_idx[a.text] = name\n",
    "        df = pd.concat([df, make_review(name, sub_url)])"
   ]
  },
  {
   "cell_type": "code",
   "execution_count": 6,
   "metadata": {},
   "outputs": [
    {
     "data": {
      "text/plain": [
       "18744"
      ]
     },
     "execution_count": 6,
     "metadata": {},
     "output_type": "execute_result"
    }
   ],
   "source": [
    "len(df)"
   ]
  },
  {
   "cell_type": "code",
   "execution_count": 7,
   "metadata": {},
   "outputs": [
    {
     "data": {
      "text/plain": [
       "2956"
      ]
     },
     "execution_count": 7,
     "metadata": {},
     "output_type": "execute_result"
    }
   ],
   "source": [
    "len(name_to_idx)"
   ]
  },
  {
   "cell_type": "code",
   "execution_count": 8,
   "metadata": {},
   "outputs": [],
   "source": [
    "import pickle\n",
    "\n",
    "# save\n",
    "with open('name_to_idx', 'wb') as f:\n",
    "    pickle.dump(name_to_idx, f)"
   ]
  },
  {
   "cell_type": "code",
   "execution_count": 9,
   "metadata": {},
   "outputs": [],
   "source": [
    "# save\n",
    "with open('raw_data', 'wb') as f:\n",
    "    pickle.dump(df, f)"
   ]
  },
  {
   "cell_type": "code",
   "execution_count": null,
   "metadata": {},
   "outputs": [],
   "source": []
  }
 ],
 "metadata": {
  "kernelspec": {
   "display_name": "Python 3",
   "language": "python",
   "name": "python3"
  },
  "language_info": {
   "codemirror_mode": {
    "name": "ipython",
    "version": 3
   },
   "file_extension": ".py",
   "mimetype": "text/x-python",
   "name": "python",
   "nbconvert_exporter": "python",
   "pygments_lexer": "ipython3",
   "version": "3.8.5"
  }
 },
 "nbformat": 4,
 "nbformat_minor": 4
}
